{
  "cells": [
    {
      "cell_type": "code",
      "execution_count": 52,
      "metadata": {
        "id": "4rXb_1fcnnM9"
      },
      "outputs": [],
      "source": [
        "import numpy as np\n",
        "import matplotlib.pyplot as plt\n",
        "import pandas as pd\n",
        "import seaborn as sns"
      ]
    },
    {
      "cell_type": "markdown",
      "metadata": {
        "id": "9iQS--xdnnM-"
      },
      "source": [
        "# Data preparation"
      ]
    },
    {
      "cell_type": "code",
      "execution_count": 53,
      "metadata": {
        "colab": {
          "base_uri": "https://localhost:8080/",
          "height": 206
        },
        "id": "K4qphyzTnnM_",
        "outputId": "e3b84f60-d9b4-41b8-dccf-76cf82f7c9ad"
      },
      "outputs": [
        {
          "data": {
            "text/html": [
              "<div>\n",
              "<style scoped>\n",
              "    .dataframe tbody tr th:only-of-type {\n",
              "        vertical-align: middle;\n",
              "    }\n",
              "\n",
              "    .dataframe tbody tr th {\n",
              "        vertical-align: top;\n",
              "    }\n",
              "\n",
              "    .dataframe thead th {\n",
              "        text-align: right;\n",
              "    }\n",
              "</style>\n",
              "<table border=\"1\" class=\"dataframe\">\n",
              "  <thead>\n",
              "    <tr style=\"text-align: right;\">\n",
              "      <th></th>\n",
              "      <th>sex</th>\n",
              "      <th>age</th>\n",
              "      <th>smoker</th>\n",
              "      <th>region</th>\n",
              "      <th>BMI</th>\n",
              "      <th>#children</th>\n",
              "      <th>amout</th>\n",
              "    </tr>\n",
              "  </thead>\n",
              "  <tbody>\n",
              "    <tr>\n",
              "      <th>0</th>\n",
              "      <td>male</td>\n",
              "      <td>55</td>\n",
              "      <td>no</td>\n",
              "      <td>W</td>\n",
              "      <td>29.90</td>\n",
              "      <td>0</td>\n",
              "      <td>10214.63600</td>\n",
              "    </tr>\n",
              "    <tr>\n",
              "      <th>1</th>\n",
              "      <td>female</td>\n",
              "      <td>35</td>\n",
              "      <td>no</td>\n",
              "      <td>S</td>\n",
              "      <td>35.86</td>\n",
              "      <td>2</td>\n",
              "      <td>5836.52040</td>\n",
              "    </tr>\n",
              "    <tr>\n",
              "      <th>2</th>\n",
              "      <td>male</td>\n",
              "      <td>34</td>\n",
              "      <td>no</td>\n",
              "      <td>W</td>\n",
              "      <td>32.80</td>\n",
              "      <td>1</td>\n",
              "      <td>14358.36437</td>\n",
              "    </tr>\n",
              "    <tr>\n",
              "      <th>3</th>\n",
              "      <td>female</td>\n",
              "      <td>19</td>\n",
              "      <td>no</td>\n",
              "      <td>W</td>\n",
              "      <td>18.60</td>\n",
              "      <td>0</td>\n",
              "      <td>1728.89700</td>\n",
              "    </tr>\n",
              "    <tr>\n",
              "      <th>4</th>\n",
              "      <td>female</td>\n",
              "      <td>39</td>\n",
              "      <td>no</td>\n",
              "      <td>S</td>\n",
              "      <td>23.87</td>\n",
              "      <td>5</td>\n",
              "      <td>8582.30230</td>\n",
              "    </tr>\n",
              "  </tbody>\n",
              "</table>\n",
              "</div>"
            ],
            "text/plain": [
              "      sex  age smoker region    BMI  #children        amout\n",
              "0    male   55     no      W  29.90          0  10214.63600\n",
              "1  female   35     no      S  35.86          2   5836.52040\n",
              "2    male   34     no      W  32.80          1  14358.36437\n",
              "3  female   19     no      W  18.60          0   1728.89700\n",
              "4  female   39     no      S  23.87          5   8582.30230"
            ]
          },
          "execution_count": 53,
          "metadata": {},
          "output_type": "execute_result"
        }
      ],
      "source": [
        "df = pd.read_excel(\"dataset MLR.xlsx\")\n",
        "df.head()"
      ]
    },
    {
      "cell_type": "code",
      "execution_count": 54,
      "metadata": {
        "colab": {
          "base_uri": "https://localhost:8080/"
        },
        "id": "Mi9FM9fknnNA",
        "outputId": "cbdd771c-e081-41e0-bca9-f5e270391f44"
      },
      "outputs": [
        {
          "name": "stdout",
          "output_type": "stream",
          "text": [
            "<class 'pandas.core.frame.DataFrame'>\n",
            "RangeIndex: 1338 entries, 0 to 1337\n",
            "Data columns (total 7 columns):\n",
            " #   Column     Non-Null Count  Dtype  \n",
            "---  ------     --------------  -----  \n",
            " 0   sex        1338 non-null   object \n",
            " 1   age        1338 non-null   int64  \n",
            " 2   smoker     1338 non-null   object \n",
            " 3   region     1338 non-null   object \n",
            " 4   BMI        1338 non-null   float64\n",
            " 5   #children  1338 non-null   int64  \n",
            " 6   amout      1338 non-null   float64\n",
            "dtypes: float64(2), int64(2), object(3)\n",
            "memory usage: 73.3+ KB\n"
          ]
        }
      ],
      "source": [
        "df.info()"
      ]
    },
    {
      "cell_type": "code",
      "execution_count": 55,
      "metadata": {
        "colab": {
          "base_uri": "https://localhost:8080/",
          "height": 368
        },
        "id": "TcXpi5SOnnNA",
        "outputId": "3848bae7-0e81-4f12-b590-c4abb56c602f"
      },
      "outputs": [
        {
          "data": {
            "text/plain": [
              "Text(0.5, 1.0, 'Missing values in dataset')"
            ]
          },
          "execution_count": 55,
          "metadata": {},
          "output_type": "execute_result"
        },
        {
          "data": {
            "image/png": "[encoded data removed]",
            "text/plain": [
              "<Figure size 1200x400 with 1 Axes>"
            ]
          },
          "metadata": {},
          "output_type": "display_data"
        }
      ],
      "source": [
        "plt.figure(figsize=(12, 4))\n",
        "sns.heatmap(df.isnull(), cbar=False, cmap=\"viridis\", yticklabels=False)\n",
        "plt.title(\"Missing values in dataset\")"
      ]
    },
    {
      "cell_type": "markdown",
      "metadata": {
        "id": "dX6Lq16mnnNA"
      },
      "source": [
        "## Data preprocessing"
      ]
    },
    {
      "cell_type": "code",
      "execution_count": 56,
      "metadata": {
        "colab": {
          "base_uri": "https://localhost:8080/",
          "height": 206
        },
        "id": "bPBMI4AOnnNA",
        "outputId": "6ad6735f-227e-4b8d-b9e3-544a75014cbe"
      },
      "outputs": [
        {
          "data": {
            "text/html": [
              "<div>\n",
              "<style scoped>\n",
              "    .dataframe tbody tr th:only-of-type {\n",
              "        vertical-align: middle;\n",
              "    }\n",
              "\n",
              "    .dataframe tbody tr th {\n",
              "        vertical-align: top;\n",
              "    }\n",
              "\n",
              "    .dataframe thead th {\n",
              "        text-align: right;\n",
              "    }\n",
              "</style>\n",
              "<table border=\"1\" class=\"dataframe\">\n",
              "  <thead>\n",
              "    <tr style=\"text-align: right;\">\n",
              "      <th></th>\n",
              "      <th>age</th>\n",
              "      <th>BMI</th>\n",
              "      <th>#children</th>\n",
              "      <th>amout</th>\n",
              "      <th>sex_male</th>\n",
              "      <th>smoker_yes</th>\n",
              "      <th>region_N</th>\n",
              "      <th>region_S</th>\n",
              "      <th>region_W</th>\n",
              "    </tr>\n",
              "  </thead>\n",
              "  <tbody>\n",
              "    <tr>\n",
              "      <th>0</th>\n",
              "      <td>55</td>\n",
              "      <td>29.90</td>\n",
              "      <td>0</td>\n",
              "      <td>10214.63600</td>\n",
              "      <td>1</td>\n",
              "      <td>0</td>\n",
              "      <td>0</td>\n",
              "      <td>0</td>\n",
              "      <td>1</td>\n",
              "    </tr>\n",
              "    <tr>\n",
              "      <th>1</th>\n",
              "      <td>35</td>\n",
              "      <td>35.86</td>\n",
              "      <td>2</td>\n",
              "      <td>5836.52040</td>\n",
              "      <td>0</td>\n",
              "      <td>0</td>\n",
              "      <td>0</td>\n",
              "      <td>1</td>\n",
              "      <td>0</td>\n",
              "    </tr>\n",
              "    <tr>\n",
              "      <th>2</th>\n",
              "      <td>34</td>\n",
              "      <td>32.80</td>\n",
              "      <td>1</td>\n",
              "      <td>14358.36437</td>\n",
              "      <td>1</td>\n",
              "      <td>0</td>\n",
              "      <td>0</td>\n",
              "      <td>0</td>\n",
              "      <td>1</td>\n",
              "    </tr>\n",
              "    <tr>\n",
              "      <th>3</th>\n",
              "      <td>19</td>\n",
              "      <td>18.60</td>\n",
              "      <td>0</td>\n",
              "      <td>1728.89700</td>\n",
              "      <td>0</td>\n",
              "      <td>0</td>\n",
              "      <td>0</td>\n",
              "      <td>0</td>\n",
              "      <td>1</td>\n",
              "    </tr>\n",
              "    <tr>\n",
              "      <th>4</th>\n",
              "      <td>39</td>\n",
              "      <td>23.87</td>\n",
              "      <td>5</td>\n",
              "      <td>8582.30230</td>\n",
              "      <td>0</td>\n",
              "      <td>0</td>\n",
              "      <td>0</td>\n",
              "      <td>1</td>\n",
              "      <td>0</td>\n",
              "    </tr>\n",
              "  </tbody>\n",
              "</table>\n",
              "</div>"
            ],
            "text/plain": [
              "   age    BMI  #children        amout  sex_male  smoker_yes  region_N  \\\n",
              "0   55  29.90          0  10214.63600         1           0         0   \n",
              "1   35  35.86          2   5836.52040         0           0         0   \n",
              "2   34  32.80          1  14358.36437         1           0         0   \n",
              "3   19  18.60          0   1728.89700         0           0         0   \n",
              "4   39  23.87          5   8582.30230         0           0         0   \n",
              "\n",
              "   region_S  region_W  \n",
              "0         0         1  \n",
              "1         1         0  \n",
              "2         0         1  \n",
              "3         0         1  \n",
              "4         1         0  "
            ]
          },
          "execution_count": 56,
          "metadata": {},
          "output_type": "execute_result"
        }
      ],
      "source": [
        "categorical_col = [\"sex\", \"smoker\", \"region\"]\n",
        "df_dummies = pd.get_dummies(df[categorical_col], prefix=categorical_col).drop(\n",
        "    columns=[\"sex_female\", \"smoker_no\", \"region_E\"]\n",
        ")\n",
        "df = df.drop(columns=categorical_col)\n",
        "df = pd.concat([df, df_dummies], axis=1)\n",
        "df.head()"
      ]
    },
    {
      "cell_type": "markdown",
      "metadata": {
        "id": "Gnx9miugnnNB"
      },
      "source": [
        "## Split train and test set"
      ]
    },
    {
      "cell_type": "code",
      "execution_count": 57,
      "metadata": {
        "id": "RHeseELlnnNB"
      },
      "outputs": [],
      "source": [
        "from sklearn.model_selection import train_test_split\n",
        "\n",
        "X = df.drop(columns=[\"amout\"])\n",
        "y = df[\"amout\"]\n",
        "X_train, X_test, y_train, y_test = train_test_split(X, y, test_size=0.2, random_state=23)"
      ]
    },
    {
      "cell_type": "markdown",
      "metadata": {
        "id": "kJ5WEHQbnnNB"
      },
      "source": [
        "# Model construction"
      ]
    },
    {
      "cell_type": "markdown",
      "metadata": {
        "id": "3K0_3TbfotH1"
      },
      "source": [
        "## Without log normalization"
      ]
    },
    {
      "cell_type": "code",
      "execution_count": 58,
      "metadata": {
        "id": "G_2BhdRTnnNC"
      },
      "outputs": [],
      "source": [
        "from sklearn.linear_model import LinearRegression\n",
        "\n",
        "lin_reg = LinearRegression()\n",
        "model = lin_reg.fit(X_train, y_train.values.reshape(-1, 1))"
      ]
    },
    {
      "cell_type": "code",
      "execution_count": 59,
      "metadata": {
        "id": "Sbh8tkKAnnNC"
      },
      "outputs": [],
      "source": [
        "sk_theta = list(model.intercept_) + list(model.coef_.flatten())"
      ]
    },
    {
      "cell_type": "code",
      "execution_count": 60,
      "metadata": {
        "colab": {
          "base_uri": "https://localhost:8080/",
          "height": 332
        },
        "id": "6-A_9Cs2nnNC",
        "outputId": "017f8714-ce2e-4dfd-ec4e-5b2530eeb308"
      },
      "outputs": [
        {
          "data": {
            "text/html": [
              "<div>\n",
              "<style scoped>\n",
              "    .dataframe tbody tr th:only-of-type {\n",
              "        vertical-align: middle;\n",
              "    }\n",
              "\n",
              "    .dataframe tbody tr th {\n",
              "        vertical-align: top;\n",
              "    }\n",
              "\n",
              "    .dataframe thead th {\n",
              "        text-align: right;\n",
              "    }\n",
              "</style>\n",
              "<table border=\"1\" class=\"dataframe\">\n",
              "  <thead>\n",
              "    <tr style=\"text-align: right;\">\n",
              "      <th></th>\n",
              "      <th>parameter</th>\n",
              "      <th>columns</th>\n",
              "      <th>sk_theta</th>\n",
              "    </tr>\n",
              "  </thead>\n",
              "  <tbody>\n",
              "    <tr>\n",
              "      <th>0</th>\n",
              "      <td>theta_0</td>\n",
              "      <td>intercept</td>\n",
              "      <td>-11123.218309</td>\n",
              "    </tr>\n",
              "    <tr>\n",
              "      <th>1</th>\n",
              "      <td>theta_1</td>\n",
              "      <td>age</td>\n",
              "      <td>257.336853</td>\n",
              "    </tr>\n",
              "    <tr>\n",
              "      <th>2</th>\n",
              "      <td>theta_2</td>\n",
              "      <td>BMI</td>\n",
              "      <td>316.728241</td>\n",
              "    </tr>\n",
              "    <tr>\n",
              "      <th>3</th>\n",
              "      <td>theta_3</td>\n",
              "      <td>#children</td>\n",
              "      <td>408.048953</td>\n",
              "    </tr>\n",
              "    <tr>\n",
              "      <th>4</th>\n",
              "      <td>theta_4</td>\n",
              "      <td>sex_male</td>\n",
              "      <td>-19.589655</td>\n",
              "    </tr>\n",
              "    <tr>\n",
              "      <th>5</th>\n",
              "      <td>theta_5</td>\n",
              "      <td>smoker_yes</td>\n",
              "      <td>24282.283222</td>\n",
              "    </tr>\n",
              "    <tr>\n",
              "      <th>6</th>\n",
              "      <td>theta_6</td>\n",
              "      <td>region_N</td>\n",
              "      <td>-644.276286</td>\n",
              "    </tr>\n",
              "    <tr>\n",
              "      <th>7</th>\n",
              "      <td>theta_7</td>\n",
              "      <td>region_S</td>\n",
              "      <td>-1143.711430</td>\n",
              "    </tr>\n",
              "    <tr>\n",
              "      <th>8</th>\n",
              "      <td>theta_8</td>\n",
              "      <td>region_W</td>\n",
              "      <td>-1169.810279</td>\n",
              "    </tr>\n",
              "  </tbody>\n",
              "</table>\n",
              "</div>"
            ],
            "text/plain": [
              "  parameter     columns      sk_theta\n",
              "0   theta_0   intercept -11123.218309\n",
              "1   theta_1         age    257.336853\n",
              "2   theta_2         BMI    316.728241\n",
              "3   theta_3   #children    408.048953\n",
              "4   theta_4    sex_male    -19.589655\n",
              "5   theta_5  smoker_yes  24282.283222\n",
              "6   theta_6    region_N   -644.276286\n",
              "7   theta_7    region_S  -1143.711430\n",
              "8   theta_8    region_W  -1169.810279"
            ]
          },
          "execution_count": 60,
          "metadata": {},
          "output_type": "execute_result"
        }
      ],
      "source": [
        "param = [\"theta_\" + str(i) for i in range(X_train.shape[1] + 1)]\n",
        "columns = [\"intercept\"] + list(X_train.columns.values)\n",
        "\n",
        "param_df = pd.DataFrame({\"parameter\": param, \"columns\": columns, \"sk_theta\": list(sk_theta)})\n",
        "param_df"
      ]
    },
    {
      "cell_type": "markdown",
      "metadata": {
        "id": "k6SCW6yennNF"
      },
      "source": [
        "### Evaluation"
      ]
    },
    {
      "cell_type": "code",
      "execution_count": 61,
      "metadata": {
        "id": "I0xxH2MAnnNF"
      },
      "outputs": [],
      "source": [
        "y_pred_sk = model.predict(X_test)"
      ]
    },
    {
      "cell_type": "code",
      "execution_count": 62,
      "metadata": {
        "colab": {
          "base_uri": "https://localhost:8080/"
        },
        "id": "tMdUqEfBnnNF",
        "outputId": "5721a921-6f19-47dc-eca2-cc25e6efc8a5"
      },
      "outputs": [
        {
          "name": "stdout",
          "output_type": "stream",
          "text": [
            "MAE is 4112.55124837087\n",
            "MSE is 34930013.72697601\n",
            "RMAE is 5910.16190361787\n",
            "R2 is 0.7536226595128667\n"
          ]
        }
      ],
      "source": [
        "from numpy.ma import MAError\n",
        "from sklearn import metrics\n",
        "\n",
        "MAE = metrics.mean_absolute_error(y_test, y_pred_sk)\n",
        "MSE = metrics.mean_squared_error(y_test, y_pred_sk, squared=True)\n",
        "RMSE = metrics.mean_squared_error(y_test, y_pred_sk, squared=False)\n",
        "\n",
        "print(\"MAE is\", MAE)\n",
        "print(\"MSE is\", MSE)\n",
        "print(\"RMAE is\", RMSE)\n",
        "print(\"R2 is\", model.score(X_test, y_test))"
      ]
    },
    {
      "cell_type": "markdown",
      "metadata": {
        "id": "r0KI6bmOpGYW"
      },
      "source": [
        "## With log normalization"
      ]
    },
    {
      "cell_type": "markdown",
      "metadata": {
        "id": "oTW_bd4MpNWH"
      },
      "source": [
        "### Take log normalization"
      ]
    },
    {
      "cell_type": "code",
      "execution_count": 63,
      "metadata": {
        "id": "dB1kQpSLpPor"
      },
      "outputs": [],
      "source": [
        "y_train = np.log(y_train)\n",
        "y_test = np.log(y_test)"
      ]
    },
    {
      "cell_type": "code",
      "execution_count": 64,
      "metadata": {
        "id": "hNfSWiT_pYHu"
      },
      "outputs": [],
      "source": [
        "lin_reg = LinearRegression()\n",
        "model_log = lin_reg.fit(X_train, y_train.values.reshape(-1, 1))"
      ]
    },
    {
      "cell_type": "code",
      "execution_count": 65,
      "metadata": {
        "id": "keWDU-fXqC3n"
      },
      "outputs": [],
      "source": [
        "sk_theta = list(model_log.intercept_) + list(model_log.coef_.flatten())"
      ]
    },
    {
      "cell_type": "code",
      "execution_count": 66,
      "metadata": {
        "colab": {
          "base_uri": "https://localhost:8080/",
          "height": 332
        },
        "id": "uDr11Ac5qFi-",
        "outputId": "0cfd0fbf-5f28-4119-ebdb-f30268393aa3"
      },
      "outputs": [
        {
          "data": {
            "text/html": [
              "<div>\n",
              "<style scoped>\n",
              "    .dataframe tbody tr th:only-of-type {\n",
              "        vertical-align: middle;\n",
              "    }\n",
              "\n",
              "    .dataframe tbody tr th {\n",
              "        vertical-align: top;\n",
              "    }\n",
              "\n",
              "    .dataframe thead th {\n",
              "        text-align: right;\n",
              "    }\n",
              "</style>\n",
              "<table border=\"1\" class=\"dataframe\">\n",
              "  <thead>\n",
              "    <tr style=\"text-align: right;\">\n",
              "      <th></th>\n",
              "      <th>parameter</th>\n",
              "      <th>columns</th>\n",
              "      <th>sk_theta</th>\n",
              "    </tr>\n",
              "  </thead>\n",
              "  <tbody>\n",
              "    <tr>\n",
              "      <th>0</th>\n",
              "      <td>theta_0</td>\n",
              "      <td>intercept</td>\n",
              "      <td>7.072904</td>\n",
              "    </tr>\n",
              "    <tr>\n",
              "      <th>1</th>\n",
              "      <td>theta_1</td>\n",
              "      <td>age</td>\n",
              "      <td>0.034083</td>\n",
              "    </tr>\n",
              "    <tr>\n",
              "      <th>2</th>\n",
              "      <td>theta_2</td>\n",
              "      <td>BMI</td>\n",
              "      <td>0.012407</td>\n",
              "    </tr>\n",
              "    <tr>\n",
              "      <th>3</th>\n",
              "      <td>theta_3</td>\n",
              "      <td>#children</td>\n",
              "      <td>0.096474</td>\n",
              "    </tr>\n",
              "    <tr>\n",
              "      <th>4</th>\n",
              "      <td>theta_4</td>\n",
              "      <td>sex_male</td>\n",
              "      <td>-0.046729</td>\n",
              "    </tr>\n",
              "    <tr>\n",
              "      <th>5</th>\n",
              "      <td>theta_5</td>\n",
              "      <td>smoker_yes</td>\n",
              "      <td>1.568186</td>\n",
              "    </tr>\n",
              "    <tr>\n",
              "      <th>6</th>\n",
              "      <td>theta_6</td>\n",
              "      <td>region_N</td>\n",
              "      <td>-0.064214</td>\n",
              "    </tr>\n",
              "    <tr>\n",
              "      <th>7</th>\n",
              "      <td>theta_7</td>\n",
              "      <td>region_S</td>\n",
              "      <td>-0.145215</td>\n",
              "    </tr>\n",
              "    <tr>\n",
              "      <th>8</th>\n",
              "      <td>theta_8</td>\n",
              "      <td>region_W</td>\n",
              "      <td>-0.132365</td>\n",
              "    </tr>\n",
              "  </tbody>\n",
              "</table>\n",
              "</div>"
            ],
            "text/plain": [
              "  parameter     columns  sk_theta\n",
              "0   theta_0   intercept  7.072904\n",
              "1   theta_1         age  0.034083\n",
              "2   theta_2         BMI  0.012407\n",
              "3   theta_3   #children  0.096474\n",
              "4   theta_4    sex_male -0.046729\n",
              "5   theta_5  smoker_yes  1.568186\n",
              "6   theta_6    region_N -0.064214\n",
              "7   theta_7    region_S -0.145215\n",
              "8   theta_8    region_W -0.132365"
            ]
          },
          "execution_count": 66,
          "metadata": {},
          "output_type": "execute_result"
        }
      ],
      "source": [
        "param = [\"theta_\" + str(i) for i in range(X_train.shape[1] + 1)]\n",
        "columns = [\"intercept\"] + list(X_train.columns.values)\n",
        "\n",
        "param_df = pd.DataFrame({\"parameter\": param, \"columns\": columns, \"sk_theta\": list(sk_theta)})\n",
        "param_df"
      ]
    },
    {
      "cell_type": "code",
      "execution_count": 67,
      "metadata": {
        "id": "wm_c5nXlqMZd"
      },
      "outputs": [],
      "source": [
        "y_pred_sk_log = model_log.predict(X_test)"
      ]
    },
    {
      "cell_type": "markdown",
      "metadata": {
        "id": "j-k4CrkOqoG8"
      },
      "source": [
        "### Evaluation"
      ]
    },
    {
      "cell_type": "code",
      "execution_count": 68,
      "metadata": {
        "colab": {
          "base_uri": "https://localhost:8080/"
        },
        "id": "x4Vf8xH_qO_1",
        "outputId": "f76bda11-f84d-464a-b645-b578d7563628"
      },
      "outputs": [
        {
          "name": "stdout",
          "output_type": "stream",
          "text": [
            "MAE is 3835.542102180685\n",
            "MSE is 57197219.72121146\n",
            "RMAE is 7562.884351965952\n",
            "R2 is 0.7781365576274974\n"
          ]
        }
      ],
      "source": [
        "from numpy.ma import MAError\n",
        "from sklearn import metrics\n",
        "\n",
        "MAE = metrics.mean_absolute_error(np.exp(y_test), np.exp(y_pred_sk_log))\n",
        "MSE = metrics.mean_squared_error(np.exp(y_test), np.exp(y_pred_sk_log), squared=True)\n",
        "RMSE = metrics.mean_squared_error(np.exp(y_test), np.exp(y_pred_sk_log), squared=False)\n",
        "\n",
        "print(\"MAE is\", MAE)\n",
        "print(\"MSE is\", MSE)\n",
        "print(\"RMAE is\", RMSE)\n",
        "print(\"R2 is\", model_log.score(X_test, y_test))"
      ]
    }
  ],
  "metadata": {
    "colab": {
      "provenance": [],
      "toc_visible": true
    },
    "kernelspec": {
      "display_name": "base",
      "language": "python",
      "name": "python3"
    },
    "language_info": {
      "codemirror_mode": {
        "name": "ipython",
        "version": 3
      },
      "file_extension": ".py",
      "mimetype": "text/x-python",
      "name": "python",
      "nbconvert_exporter": "python",
      "pygments_lexer": "ipython3",
      "version": "3.10.8"
    }
  },
  "nbformat": 4,
  "nbformat_minor": 0
}

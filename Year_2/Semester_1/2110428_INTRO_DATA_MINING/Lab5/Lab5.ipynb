{
  "cells": [
    {
      "cell_type": "markdown",
      "metadata": {},
      "source": [
        "# ANN"
      ]
    },
    {
      "cell_type": "code",
      "execution_count": 1,
      "metadata": {
        "id": "p-GJn1XvCl1U"
      },
      "outputs": [],
      "source": [
        "import numpy as np\n",
        "import pandas as pd\n",
        "import matplotlib.pyplot as plt"
      ]
    },
    {
      "cell_type": "markdown",
      "metadata": {},
      "source": [
        "## Data Preprocessing"
      ]
    },
    {
      "cell_type": "code",
      "execution_count": 2,
      "metadata": {
        "colab": {
          "base_uri": "https://localhost:8080/"
        },
        "id": "-KKLtmuCCtcZ",
        "outputId": "1852c193-3fe3-4ca6-bec8-838237161a87"
      },
      "outputs": [
        {
          "name": "stdout",
          "output_type": "stream",
          "text": [
            "<class 'pandas.core.frame.DataFrame'>\n",
            "RangeIndex: 506 entries, 0 to 505\n",
            "Data columns (total 14 columns):\n",
            " #   Column  Non-Null Count  Dtype  \n",
            "---  ------  --------------  -----  \n",
            " 0   0       506 non-null    float64\n",
            " 1   1       506 non-null    float64\n",
            " 2   2       506 non-null    float64\n",
            " 3   3       506 non-null    int64  \n",
            " 4   4       506 non-null    float64\n",
            " 5   5       506 non-null    float64\n",
            " 6   6       506 non-null    float64\n",
            " 7   7       506 non-null    float64\n",
            " 8   8       506 non-null    int64  \n",
            " 9   9       506 non-null    float64\n",
            " 10  10      506 non-null    float64\n",
            " 11  11      506 non-null    float64\n",
            " 12  12      506 non-null    float64\n",
            " 13  13      506 non-null    float64\n",
            "dtypes: float64(12), int64(2)\n",
            "memory usage: 55.5 KB\n"
          ]
        }
      ],
      "source": [
        "df = pd.read_csv(\"housePrice data.csv\", header=None, delim_whitespace=True)\n",
        "df.info()"
      ]
    },
    {
      "cell_type": "code",
      "execution_count": 3,
      "metadata": {
        "id": "0ZJ_zd_lCvE7"
      },
      "outputs": [],
      "source": [
        "from sklearn.preprocessing import StandardScaler\n",
        "from sklearn.model_selection import train_test_split\n",
        "\n",
        "X = df.iloc[:, :-1].values\n",
        "y = df.iloc[:, -1].values\n",
        "\n",
        "X_train, X_test, y_train, y_test = train_test_split(X, y, test_size=0.2, random_state=1234)\n",
        "\n",
        "X_train = (scaler := StandardScaler()).fit_transform(X_train)\n",
        "X_test = scaler.transform(X_test)"
      ]
    },
    {
      "cell_type": "markdown",
      "metadata": {},
      "source": [
        "## Construct 1-hidden layer Neural Network mode"
      ]
    },
    {
      "cell_type": "code",
      "execution_count": 4,
      "metadata": {
        "colab": {
          "base_uri": "https://localhost:8080/"
        },
        "id": "6Z0Qba_jC3Xd",
        "outputId": "41438dbc-496f-4b9e-cf30-fdf12aa5dc48"
      },
      "outputs": [
        {
          "name": "stderr",
          "output_type": "stream",
          "text": [
            "UsageError: Line magic function `%` not found.\n"
          ]
        }
      ],
      "source": [
        "% pip install -q keras-tuner"
      ]
    },
    {
      "cell_type": "code",
      "execution_count": 5,
      "metadata": {
        "id": "bMiZlOqfCv-o"
      },
      "outputs": [
        {
          "data": {
            "text/plain": [
              "<Axes: xlabel='epochs', ylabel='loss'>"
            ]
          },
          "execution_count": 5,
          "metadata": {},
          "output_type": "execute_result"
        },
        {
          "data": {
            "image/png": "[encoded data removed]",
            "text/plain": [
              "<Figure size 640x480 with 1 Axes>"
            ]
          },
          "metadata": {},
          "output_type": "display_data"
        }
      ],
      "source": [
        "import tensorflow as tf\n",
        "from tensorflow import keras\n",
        "from tensorflow.keras import layers\n",
        "import keras_tuner as kt\n",
        "\n",
        "tf.random.set_seed(1234)\n",
        "model = keras.Sequential(\n",
        "    [layers.InputLayer(input_shape=(13,)), layers.Dense(units=100, activation=\"relu\"), layers.Dense(1)]\n",
        ")\n",
        "model.compile(\n",
        "    optimizer=keras.optimizers.legacy.Adam(learning_rate=0.001),\n",
        "    loss=\"mean_squared_error\",\n",
        ")\n",
        "early_stop = tf.keras.callbacks.EarlyStopping(monitor=\"val_loss\", patience=3)\n",
        "history = model.fit(X_train, y_train, epochs=150, validation_split=0.2, verbose=0, callbacks=[early_stop])\n",
        "\n",
        "pd.DataFrame(history.history).plot(xlabel=\"epochs\", ylabel=\"loss\", xticks=np.arange(0, 151, 10))"
      ]
    },
    {
      "cell_type": "code",
      "execution_count": 6,
      "metadata": {},
      "outputs": [],
      "source": [
        "def build_model(hp: kt.HyperParameters):\n",
        "    model = keras.Sequential()\n",
        "    model.add(layers.InputLayer(input_shape=(13,)))\n",
        "    model.add(layers.Dense(units=hp.Int(\"units\", 50, 801, 50), activation=\"relu\"))\n",
        "    model.add(layers.Dense(1))\n",
        "    model.compile(\n",
        "        optimizer=keras.optimizers.legacy.Adam(learning_rate=hp.Choice(\"lr\", [1e-4, 1e-3, 1e-2])),\n",
        "        loss=\"mean_squared_error\",\n",
        "    )\n",
        "    return model"
      ]
    },
    {
      "cell_type": "code",
      "execution_count": 7,
      "metadata": {
        "colab": {
          "base_uri": "https://localhost:8080/"
        },
        "id": "JE6DcPrOCxDf",
        "outputId": "90df690b-9004-407a-a2a9-fb866c0e8e72"
      },
      "outputs": [
        {
          "name": "stdout",
          "output_type": "stream",
          "text": [
            "Trial 42 Complete [00h 00m 00s]\n",
            "val_loss: 485.80517578125\n",
            "\n",
            "Best val_loss So Far: 36.02494430541992\n",
            "Total elapsed time: 00h 00m 14s\n",
            "{'units': 700, 'lr': 0.01, 'tuner/epochs': 2, 'tuner/initial_epoch': 0, 'tuner/bracket': 4, 'tuner/round': 0}\n"
          ]
        }
      ],
      "source": [
        "tuner = kt.Hyperband(build_model, objective=kt.Objective(\"val_loss\", \"min\"), project_name=\"housePrice\")\n",
        "tuner.search(X_train, y_train, epochs=130, validation_split=0.2)\n",
        "best_hps = tuner.get_best_hyperparameters(num_trials=1)[0]\n",
        "print(best_hps.values)"
      ]
    },
    {
      "cell_type": "markdown",
      "metadata": {},
      "source": [
        "##  Plot loss graph"
      ]
    },
    {
      "cell_type": "code",
      "execution_count": 8,
      "metadata": {
        "id": "zBX9pFVYCx5V"
      },
      "outputs": [
        {
          "name": "stdout",
          "output_type": "stream",
          "text": [
            "Epoch 1/130\n",
            "13/13 [==============================] - 0s 676us/step - loss: 277.8617\n",
            "Epoch 2/130\n",
            "13/13 [==============================] - 0s 689us/step - loss: 62.1535\n",
            "Epoch 3/130\n",
            "13/13 [==============================] - 0s 662us/step - loss: 30.5427\n",
            "Epoch 4/130\n",
            "13/13 [==============================] - 0s 647us/step - loss: 22.7874\n",
            "Epoch 5/130\n",
            "13/13 [==============================] - 0s 722us/step - loss: 18.1409\n",
            "Epoch 6/130\n",
            "13/13 [==============================] - 0s 661us/step - loss: 14.9387\n",
            "Epoch 7/130\n",
            "13/13 [==============================] - 0s 640us/step - loss: 13.2157\n",
            "Epoch 8/130\n",
            "13/13 [==============================] - 0s 856us/step - loss: 12.9278\n",
            "Epoch 9/130\n",
            "13/13 [==============================] - 0s 718us/step - loss: 11.5908\n",
            "Epoch 10/130\n",
            "13/13 [==============================] - 0s 705us/step - loss: 12.4114\n",
            "Epoch 11/130\n",
            "13/13 [==============================] - 0s 717us/step - loss: 11.0814\n",
            "Epoch 12/130\n",
            "13/13 [==============================] - 0s 671us/step - loss: 11.0470\n",
            "Epoch 13/130\n",
            "13/13 [==============================] - 0s 731us/step - loss: 10.5808\n",
            "Epoch 14/130\n",
            "13/13 [==============================] - 0s 715us/step - loss: 9.9293\n",
            "Epoch 15/130\n",
            "13/13 [==============================] - 0s 682us/step - loss: 10.5820\n",
            "Epoch 16/130\n",
            "13/13 [==============================] - 0s 748us/step - loss: 11.0451\n",
            "Epoch 17/130\n",
            "13/13 [==============================] - 0s 715us/step - loss: 10.6834\n",
            "Epoch 18/130\n",
            "13/13 [==============================] - 0s 677us/step - loss: 10.7612\n",
            "Epoch 19/130\n",
            "13/13 [==============================] - 0s 710us/step - loss: 10.5229\n",
            "Epoch 20/130\n",
            "13/13 [==============================] - 0s 655us/step - loss: 9.0862\n",
            "Epoch 21/130\n",
            "13/13 [==============================] - 0s 664us/step - loss: 8.7684\n",
            "Epoch 22/130\n",
            "13/13 [==============================] - 0s 675us/step - loss: 7.8136\n",
            "Epoch 23/130\n",
            "13/13 [==============================] - 0s 712us/step - loss: 8.2193\n",
            "Epoch 24/130\n",
            "13/13 [==============================] - 0s 701us/step - loss: 8.0025\n",
            "Epoch 25/130\n",
            "13/13 [==============================] - 0s 2ms/step - loss: 7.7922\n",
            "Epoch 26/130\n",
            "13/13 [==============================] - 0s 1ms/step - loss: 7.6223\n",
            "Epoch 27/130\n",
            "13/13 [==============================] - 0s 639us/step - loss: 7.2058\n",
            "Epoch 28/130\n",
            "13/13 [==============================] - 0s 706us/step - loss: 6.9557\n",
            "Epoch 29/130\n",
            "13/13 [==============================] - 0s 738us/step - loss: 7.3539\n",
            "Epoch 30/130\n",
            "13/13 [==============================] - 0s 973us/step - loss: 6.7603\n",
            "Epoch 31/130\n",
            "13/13 [==============================] - 0s 681us/step - loss: 6.3682\n",
            "Epoch 32/130\n",
            "13/13 [==============================] - 0s 705us/step - loss: 6.4526\n",
            "Epoch 33/130\n",
            "13/13 [==============================] - 0s 679us/step - loss: 5.7838\n",
            "Epoch 34/130\n",
            "13/13 [==============================] - 0s 677us/step - loss: 5.7717\n",
            "Epoch 35/130\n",
            "13/13 [==============================] - 0s 645us/step - loss: 5.6856\n",
            "Epoch 36/130\n",
            "13/13 [==============================] - 0s 742us/step - loss: 5.6250\n",
            "Epoch 37/130\n",
            "13/13 [==============================] - 0s 677us/step - loss: 5.5262\n",
            "Epoch 38/130\n",
            "13/13 [==============================] - 0s 679us/step - loss: 5.3574\n",
            "Epoch 39/130\n",
            "13/13 [==============================] - 0s 681us/step - loss: 5.4781\n",
            "Epoch 40/130\n",
            "13/13 [==============================] - 0s 701us/step - loss: 5.6197\n",
            "Epoch 41/130\n",
            "13/13 [==============================] - 0s 723us/step - loss: 6.1774\n",
            "Epoch 42/130\n",
            "13/13 [==============================] - 0s 750us/step - loss: 5.6384\n",
            "Epoch 43/130\n",
            "13/13 [==============================] - 0s 690us/step - loss: 5.8266\n",
            "Epoch 44/130\n",
            "13/13 [==============================] - 0s 695us/step - loss: 5.5639\n",
            "Epoch 45/130\n",
            "13/13 [==============================] - 0s 730us/step - loss: 5.4755\n",
            "Epoch 46/130\n",
            "13/13 [==============================] - 0s 684us/step - loss: 4.9820\n",
            "Epoch 47/130\n",
            "13/13 [==============================] - 0s 702us/step - loss: 5.0221\n",
            "Epoch 48/130\n",
            "13/13 [==============================] - 0s 659us/step - loss: 5.0097\n",
            "Epoch 49/130\n",
            "13/13 [==============================] - 0s 707us/step - loss: 4.5670\n",
            "Epoch 50/130\n",
            "13/13 [==============================] - 0s 683us/step - loss: 4.7989\n",
            "Epoch 51/130\n",
            "13/13 [==============================] - 0s 679us/step - loss: 5.8105\n",
            "Epoch 52/130\n",
            "13/13 [==============================] - 0s 680us/step - loss: 5.1802\n",
            "Epoch 53/130\n",
            "13/13 [==============================] - 0s 683us/step - loss: 4.9174\n",
            "Epoch 54/130\n",
            "13/13 [==============================] - 0s 2ms/step - loss: 4.4575\n",
            "Epoch 55/130\n",
            "13/13 [==============================] - 0s 1ms/step - loss: 5.0534\n",
            "Epoch 56/130\n",
            "13/13 [==============================] - 0s 710us/step - loss: 5.9172\n",
            "Epoch 57/130\n",
            "13/13 [==============================] - 0s 700us/step - loss: 5.4958\n",
            "Epoch 58/130\n",
            "13/13 [==============================] - 0s 662us/step - loss: 6.4547\n",
            "Epoch 59/130\n",
            "13/13 [==============================] - 0s 664us/step - loss: 6.2460\n",
            "Epoch 60/130\n",
            "13/13 [==============================] - 0s 682us/step - loss: 5.3938\n",
            "Epoch 61/130\n",
            "13/13 [==============================] - 0s 703us/step - loss: 4.5919\n",
            "Epoch 62/130\n",
            "13/13 [==============================] - 0s 673us/step - loss: 4.5500\n",
            "Epoch 63/130\n",
            "13/13 [==============================] - 0s 680us/step - loss: 4.0952\n",
            "Epoch 64/130\n",
            "13/13 [==============================] - 0s 667us/step - loss: 4.6453\n",
            "Epoch 65/130\n",
            "13/13 [==============================] - 0s 669us/step - loss: 4.3717\n",
            "Epoch 66/130\n",
            "13/13 [==============================] - 0s 704us/step - loss: 4.0304\n",
            "Epoch 67/130\n",
            "13/13 [==============================] - 0s 707us/step - loss: 4.1281\n",
            "Epoch 68/130\n",
            "13/13 [==============================] - 0s 665us/step - loss: 4.1831\n",
            "Epoch 69/130\n",
            "13/13 [==============================] - 0s 721us/step - loss: 4.2475\n",
            "Epoch 70/130\n",
            "13/13 [==============================] - 0s 664us/step - loss: 4.6502\n",
            "Epoch 71/130\n",
            "13/13 [==============================] - 0s 688us/step - loss: 4.5799\n",
            "Epoch 72/130\n",
            "13/13 [==============================] - 0s 652us/step - loss: 3.5936\n",
            "Epoch 73/130\n",
            "13/13 [==============================] - 0s 690us/step - loss: 3.5558\n",
            "Epoch 74/130\n",
            "13/13 [==============================] - 0s 670us/step - loss: 3.5622\n",
            "Epoch 75/130\n",
            "13/13 [==============================] - 0s 632us/step - loss: 3.8196\n",
            "Epoch 76/130\n",
            "13/13 [==============================] - 0s 706us/step - loss: 3.9620\n",
            "Epoch 77/130\n",
            "13/13 [==============================] - 0s 736us/step - loss: 3.6427\n",
            "Epoch 78/130\n",
            "13/13 [==============================] - 0s 654us/step - loss: 3.8698\n",
            "Epoch 79/130\n",
            "13/13 [==============================] - 0s 691us/step - loss: 3.4590\n",
            "Epoch 80/130\n",
            "13/13 [==============================] - 0s 677us/step - loss: 3.4812\n",
            "Epoch 81/130\n",
            "13/13 [==============================] - 0s 676us/step - loss: 3.1308\n",
            "Epoch 82/130\n",
            "13/13 [==============================] - 0s 2ms/step - loss: 3.2423\n",
            "Epoch 83/130\n",
            "13/13 [==============================] - 0s 1ms/step - loss: 3.6524\n",
            "Epoch 84/130\n",
            "13/13 [==============================] - 0s 630us/step - loss: 3.3980\n",
            "Epoch 85/130\n",
            "13/13 [==============================] - 0s 722us/step - loss: 3.7126\n",
            "Epoch 86/130\n",
            "13/13 [==============================] - 0s 685us/step - loss: 3.4713\n",
            "Epoch 87/130\n",
            "13/13 [==============================] - 0s 720us/step - loss: 2.9449\n",
            "Epoch 88/130\n",
            "13/13 [==============================] - 0s 653us/step - loss: 2.8967\n",
            "Epoch 89/130\n",
            "13/13 [==============================] - 0s 648us/step - loss: 2.7067\n",
            "Epoch 90/130\n",
            "13/13 [==============================] - 0s 712us/step - loss: 2.5767\n",
            "Epoch 91/130\n",
            "13/13 [==============================] - 0s 692us/step - loss: 2.4588\n",
            "Epoch 92/130\n",
            "13/13 [==============================] - 0s 651us/step - loss: 2.7821\n",
            "Epoch 93/130\n",
            "13/13 [==============================] - 0s 684us/step - loss: 2.9061\n",
            "Epoch 94/130\n",
            "13/13 [==============================] - 0s 655us/step - loss: 2.9579\n",
            "Epoch 95/130\n",
            "13/13 [==============================] - 0s 672us/step - loss: 2.7061\n",
            "Epoch 96/130\n",
            "13/13 [==============================] - 0s 669us/step - loss: 3.1256\n",
            "Epoch 97/130\n",
            "13/13 [==============================] - 0s 679us/step - loss: 2.9567\n",
            "Epoch 98/130\n",
            "13/13 [==============================] - 0s 675us/step - loss: 3.2834\n",
            "Epoch 99/130\n",
            "13/13 [==============================] - 0s 674us/step - loss: 2.6409\n",
            "Epoch 100/130\n",
            "13/13 [==============================] - 0s 714us/step - loss: 2.9898\n",
            "Epoch 101/130\n",
            "13/13 [==============================] - 0s 697us/step - loss: 3.2569\n",
            "Epoch 102/130\n",
            "13/13 [==============================] - 0s 690us/step - loss: 2.7740\n",
            "Epoch 103/130\n",
            "13/13 [==============================] - 0s 687us/step - loss: 4.1440\n",
            "Epoch 104/130\n",
            "13/13 [==============================] - 0s 714us/step - loss: 3.5727\n",
            "Epoch 105/130\n",
            "13/13 [==============================] - 0s 691us/step - loss: 2.8490\n",
            "Epoch 106/130\n",
            "13/13 [==============================] - 0s 685us/step - loss: 2.7161\n",
            "Epoch 107/130\n",
            "13/13 [==============================] - 0s 776us/step - loss: 2.6401\n",
            "Epoch 108/130\n",
            "13/13 [==============================] - 0s 2ms/step - loss: 2.3875\n",
            "Epoch 109/130\n",
            "13/13 [==============================] - 0s 706us/step - loss: 2.2147\n",
            "Epoch 110/130\n",
            "13/13 [==============================] - 0s 706us/step - loss: 2.3581\n",
            "Epoch 111/130\n",
            "13/13 [==============================] - 0s 669us/step - loss: 2.0115\n",
            "Epoch 112/130\n",
            "13/13 [==============================] - 0s 658us/step - loss: 2.7449\n",
            "Epoch 113/130\n",
            "13/13 [==============================] - 0s 656us/step - loss: 3.4643\n",
            "Epoch 114/130\n",
            "13/13 [==============================] - 0s 749us/step - loss: 3.2459\n",
            "Epoch 115/130\n",
            "13/13 [==============================] - 0s 662us/step - loss: 3.0972\n",
            "Epoch 116/130\n",
            "13/13 [==============================] - 0s 711us/step - loss: 2.7694\n",
            "Epoch 117/130\n",
            "13/13 [==============================] - 0s 675us/step - loss: 2.9813\n",
            "Epoch 118/130\n",
            "13/13 [==============================] - 0s 709us/step - loss: 2.7798\n",
            "Epoch 119/130\n",
            "13/13 [==============================] - 0s 663us/step - loss: 2.6064\n",
            "Epoch 120/130\n",
            "13/13 [==============================] - 0s 681us/step - loss: 3.8690\n",
            "Epoch 121/130\n",
            "13/13 [==============================] - 0s 696us/step - loss: 3.7636\n",
            "Epoch 122/130\n",
            "13/13 [==============================] - 0s 678us/step - loss: 4.5698\n",
            "Epoch 123/130\n",
            "13/13 [==============================] - 0s 702us/step - loss: 4.6510\n",
            "Epoch 124/130\n",
            "13/13 [==============================] - 0s 657us/step - loss: 3.6919\n",
            "Epoch 125/130\n",
            "13/13 [==============================] - 0s 667us/step - loss: 2.8252\n",
            "Epoch 126/130\n",
            "13/13 [==============================] - 0s 657us/step - loss: 2.7288\n",
            "Epoch 127/130\n",
            "13/13 [==============================] - 0s 727us/step - loss: 3.3375\n",
            "Epoch 128/130\n",
            "13/13 [==============================] - 0s 702us/step - loss: 2.7599\n",
            "Epoch 129/130\n",
            "13/13 [==============================] - 0s 654us/step - loss: 2.3507\n",
            "Epoch 130/130\n",
            "13/13 [==============================] - 0s 663us/step - loss: 1.9779\n"
          ]
        },
        {
          "data": {
            "text/plain": [
              "<keras.src.callbacks.History at 0x2839e5c60>"
            ]
          },
          "execution_count": 8,
          "metadata": {},
          "output_type": "execute_result"
        }
      ],
      "source": [
        "model = tuner.hypermodel.build(best_hps)\n",
        "model.fit(X_train, y_train, epochs=130)"
      ]
    },
    {
      "cell_type": "code",
      "execution_count": 9,
      "metadata": {
        "colab": {
          "base_uri": "https://localhost:8080/"
        },
        "id": "sDyqQB-kNOTe",
        "outputId": "cdf39e45-804c-4d60-ab64-44df9e8e88ce"
      },
      "outputs": [
        {
          "name": "stdout",
          "output_type": "stream",
          "text": [
            "4/4 [==============================] - 0s 634us/step\n"
          ]
        }
      ],
      "source": [
        "y_pred = model.predict(X_test)"
      ]
    },
    {
      "cell_type": "markdown",
      "metadata": {},
      "source": [
        "## Evaluate"
      ]
    },
    {
      "cell_type": "code",
      "execution_count": 10,
      "metadata": {
        "colab": {
          "base_uri": "https://localhost:8080/"
        },
        "id": "i3Fq1hcKNYtV",
        "outputId": "b52d3a49-cad9-4e36-c2bb-478035b53fbd"
      },
      "outputs": [
        {
          "name": "stdout",
          "output_type": "stream",
          "text": [
            "MAE is 1.8372225191078928\n",
            "MSE is 5.566580888362318\n",
            "RMAE is 2.359360270997695\n"
          ]
        }
      ],
      "source": [
        "from sklearn import metrics\n",
        "\n",
        "MAE = metrics.mean_absolute_error(y_test, y_pred)\n",
        "MSE = metrics.mean_squared_error(y_test, y_pred, squared=True)\n",
        "RMSE = metrics.mean_squared_error(y_test, y_pred, squared=False)\n",
        "\n",
        "print(\"MAE is\", MAE)\n",
        "print(\"MSE is\", MSE)\n",
        "print(\"RMAE is\", RMSE)"
      ]
    }
  ],
  "metadata": {
    "accelerator": "GPU",
    "colab": {
      "gpuType": "T4",
      "provenance": []
    },
    "kernelspec": {
      "display_name": "Python 3",
      "name": "python3"
    },
    "language_info": {
      "codemirror_mode": {
        "name": "ipython",
        "version": 3
      },
      "file_extension": ".py",
      "mimetype": "text/x-python",
      "name": "python",
      "nbconvert_exporter": "python",
      "pygments_lexer": "ipython3",
      "version": "3.10.8"
    }
  },
  "nbformat": 4,
  "nbformat_minor": 0
}

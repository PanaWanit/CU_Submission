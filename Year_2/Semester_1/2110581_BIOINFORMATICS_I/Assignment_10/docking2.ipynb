{
  "cells": [
    {
      "cell_type": "code",
      "execution_count": 1,
      "metadata": {
        "collapsed": false
      },
      "outputs": [],
      "source": [
        "%matplotlib inline\n"
      ]
    },
    {
      "cell_type": "code",
      "execution_count": 4,
      "metadata": {},
      "outputs": [
        {
          "name": "stdout",
          "output_type": "stream",
          "text": [
            "Requirement already satisfied: scipy in /opt/homebrew/anaconda3/lib/python3.10/site-packages (1.10.0)\n",
            "Requirement already satisfied: numpy<1.27.0,>=1.19.5 in /opt/homebrew/anaconda3/lib/python3.10/site-packages (from scipy) (1.23.5)\n",
            "Note: you may need to restart the kernel to use updated packages.\n",
            "Requirement already satisfied: biotite in /opt/homebrew/anaconda3/lib/python3.10/site-packages (0.38.0)\n",
            "Requirement already satisfied: requests>=2.12 in /opt/homebrew/anaconda3/lib/python3.10/site-packages (from biotite) (2.28.1)\n",
            "Requirement already satisfied: numpy>=1.14.5 in /opt/homebrew/anaconda3/lib/python3.10/site-packages (from biotite) (1.23.5)\n",
            "Requirement already satisfied: msgpack>=0.5.6 in /opt/homebrew/anaconda3/lib/python3.10/site-packages (from biotite) (1.0.3)\n",
            "Requirement already satisfied: networkx>=2.0 in /opt/homebrew/anaconda3/lib/python3.10/site-packages (from biotite) (2.7.1)\n",
            "Requirement already satisfied: charset-normalizer<3,>=2 in /opt/homebrew/anaconda3/lib/python3.10/site-packages (from requests>=2.12->biotite) (2.0.4)\n",
            "Requirement already satisfied: idna<4,>=2.5 in /opt/homebrew/anaconda3/lib/python3.10/site-packages (from requests>=2.12->biotite) (3.4)\n",
            "Requirement already satisfied: urllib3<1.27,>=1.21.1 in /opt/homebrew/anaconda3/lib/python3.10/site-packages (from requests>=2.12->biotite) (1.26.14)\n",
            "Requirement already satisfied: certifi>=2017.4.17 in /opt/homebrew/anaconda3/lib/python3.10/site-packages (from requests>=2.12->biotite) (2023.7.22)\n",
            "Note: you may need to restart the kernel to use updated packages.\n"
          ]
        }
      ],
      "source": [
        "%pip install scipy\n",
        "%pip install biotite\n"
      ]
    },
    {
      "cell_type": "markdown",
      "metadata": {},
      "source": [
        "\n",
        "# Docking biotin to streptavidin\n",
        "\n",
        "This example shows how to use *AutoDock Vina* :footcite:`Trott2010`\n",
        "from within *Biotite* for docking a ligand molecule to a known receptor\n",
        "structure.\n",
        "As example, we examine the famous streptavidin-biotin interaction.\n",
        "\n",
        "At first we download a high resolution structure of the complex.\n",
        "The resolution is important here:\n",
        "For one thing, the docking procedure requires annotated hydrogen atoms\n",
        "for the receptor molecule, which seldom is the case for low resolution\n",
        "X-ray structures.\n",
        "On the other hand, we would like to have a reliable reference binding\n",
        "mode of the ligand, to evaluate how well out docking procedure went\n",
        "\n",
        "After separation of the receptor and the reference ligand,\n",
        "a biotin model is loaded from the chemical components dictionary and\n",
        "docked into the binding cavity of streptavidin.\n",
        "\n",
        "Finally, the docked model is compared to the reference model, with\n",
        "respect to their RMSD.\n",
        "\n",
        ".. footbibliography::\n"
      ]
    },
    {
      "cell_type": "code",
      "execution_count": 5,
      "metadata": {
        "collapsed": false
      },
      "outputs": [
        {
          "data": {
            "image/png": "[encoded data removed]",
            "text/plain": [
              "<Figure size 800x600 with 1 Axes>"
            ]
          },
          "metadata": {},
          "output_type": "display_data"
        }
      ],
      "source": [
        "# Code source: Patrick Kunzmann\n",
        "# License: BSD 3 clause\n",
        "\n",
        "import numpy as np\n",
        "import matplotlib.pyplot as plt\n",
        "from scipy.stats import spearmanr\n",
        "import biotite.structure as struc\n",
        "import biotite.structure.info as info\n",
        "import biotite.structure.io.mmtf as mmtf\n",
        "import biotite.structure.graphics as graphics\n",
        "import biotite.database.rcsb as rcsb\n",
        "import biotite.application.autodock as autodock\n",
        "\n",
        "\n",
        "# Get the receptor structure\n",
        "# and the original 'correct' conformation of the ligand\n",
        "mmtf_file = mmtf.MMTFFile.read(rcsb.fetch(\"1IEP\", \"mmtf\"))\n",
        "structure = mmtf.get_structure(\n",
        "    # Include formal charge for accurate partial charge calculation\n",
        "    mmtf_file,\n",
        "    model=1,\n",
        "    include_bonds=True,\n",
        "    extra_fields=[\"charge\"],\n",
        ")\n",
        "# The asymmetric unit describes a streptavidin homodimer\n",
        "# However, we are only interested in a single monomer\n",
        "structure = structure[structure.chain_id == \"B\"]\n",
        "receptor = structure[struc.filter_amino_acids(structure)]\n",
        "\n",
        "ref_ligand = structure[structure.res_name == \"STI\"]\n",
        "ref_ligand_center = struc.centroid(ref_ligand)\n",
        "\n",
        "\n",
        "# Independently, get the ligand without optimized conformation\n",
        "# from the chemical components dictionary\n",
        "ligand = info.residue(\"STI\")\n",
        "\n",
        "# Search for a binding mode in a 20 Å radius\n",
        "# of the original ligand position\n",
        "app = autodock.VinaApp(ligand, receptor, ref_ligand_center, [\n",
        "                       20, 20, 20], bin_path=\"./vina\")\n",
        "# For reproducibility\n",
        "app.set_seed(0)\n",
        "# This is the maximum number:\n",
        "# Vina may find less interesting binding modes\n",
        "# and thus output less models\n",
        "app.set_max_number_of_models(100)\n",
        "# Effectively no limit\n",
        "app.set_energy_range(100.0)\n",
        "# Start docking run\n",
        "app.start()\n",
        "app.join()\n",
        "docked_coord = app.get_ligand_coord()\n",
        "energies = app.get_energies()\n",
        "\n",
        "# Create an AtomArrayStack for all docked binding modes\n",
        "docked_ligand = struc.from_template(ligand, docked_coord)\n",
        "# As Vina discards all nonpolar hydrogen atoms, their respective\n",
        "# coordinates are NaN -> remove these atoms\n",
        "docked_ligand = docked_ligand[..., ~np.isnan(\n",
        "    docked_ligand.coord[0]).any(axis=-1)]\n",
        "\n",
        "# For comparison of the docked pose with the experimentally determined\n",
        "# reference conformation, the atom order of both must be exactly the\n",
        "# same\n",
        "# Therefore, all atoms, that are additional in one of both models,\n",
        "# e.g. carboxy or nonpolar hydrogen atoms, are removed...\n",
        "docked_ligand = docked_ligand[..., np.isin(\n",
        "    docked_ligand.atom_name, ref_ligand.atom_name)]\n",
        "docked_ligand = docked_ligand[..., info.standardize_order(docked_ligand)]\n",
        "# ...and the atom order is standardized\n",
        "ref_ligand = ref_ligand[np.isin(ref_ligand.atom_name, docked_ligand.atom_name)]\n",
        "ref_ligand = ref_ligand[info.standardize_order(ref_ligand)]\n",
        "\n",
        "# Calculate the RMSD of the docked models to the correct binding mode\n",
        "# No superimposition prior to RMSD calculation, as we want to see\n",
        "# conformation differences with respect to the binding pocket\n",
        "rmsd = struc.rmsd(ref_ligand, docked_ligand)\n",
        "\n",
        "# Evaluate correlation between RMSD and binding energies\n",
        "correlation, p_value = spearmanr(energies, rmsd)\n",
        "\n",
        "figure, ax = plt.subplots(figsize=(8.0, 6.0))\n",
        "ax.set_title(f\"$r_s$ = {correlation:.2f} ($p$ = {p_value*100:.1f}%)\")\n",
        "ax.scatter(energies, rmsd, marker=\"+\", color=\"black\")\n",
        "ax.set_xlabel(\"Energy (kcal/mol)\")\n",
        "ax.set_ylabel(\"RMSD (Å)\")\n",
        "figure.tight_layout()\n",
        "plt.show()\n"
      ]
    },
    {
      "cell_type": "markdown",
      "metadata": {},
      "source": [
        "For this specific case *AutoDock Vina* shows only a low Spearman\n",
        "correlation between the RMSD of the calculated models to the\n",
        "correct binding mode and the associated calculated binding energy.\n",
        "A high correlation is desireable to ensure that docking results with\n",
        "good binding energies correspond to the correct binding mode for cases\n",
        "in which the correct binding conformation is unknown.\n",
        "However, at least the calculated model with highest predicted affinity\n",
        "is also the conformation with the lowest deviation from the\n",
        "experimental result in this instance.\n",
        "Hence, *AutoDock Vina* was able to predict an almost correct\n",
        "binding mode as its best *guess*.\n",
        "\n",
        "In a final step, we want to visually compare the experimentally\n",
        "determined conformation of biotin in the binding pocket with the\n",
        "minimum-energy docked conformation, which is also the conformation\n",
        "with the lowest RMSD in this case.\n",
        "The docked conformation is shown as ball-and-stick model, the original\n",
        "experimentally determined biotin conformation is shown in transparent\n",
        "blue. \n",
        "\n"
      ]
    },
    {
      "cell_type": "code",
      "execution_count": 6,
      "metadata": {},
      "outputs": [],
      "source": [
        "# Need to install ammolite using the folowing command\n",
        "#\n",
        "# conda install -c conda-forge ammolite\n",
        "# reference: https://ammolite.biotite-python.org/install.html\n",
        "\n",
        "# Need to also install sphinx-gallery\n",
        "# %pip install sphinx-gallery\n"
      ]
    },
    {
      "cell_type": "code",
      "execution_count": 6,
      "metadata": {},
      "outputs": [
        {
          "data": {
            "text/plain": [
              "-12.076"
            ]
          },
          "execution_count": 6,
          "metadata": {},
          "output_type": "execute_result"
        }
      ],
      "source": [
        "# Min energy\n",
        "np.min(energies)\n"
      ]
    },
    {
      "cell_type": "code",
      "execution_count": 7,
      "metadata": {
        "collapsed": false
      },
      "outputs": [],
      "source": [
        "# Get the best fitting model,\n",
        "# i.e the model with the lowest RMSD to the reference conformation\n",
        "docked_ligand = docked_ligand[np.argmin(rmsd)]\n",
        "\n",
        "# Vina only keeps polar hydrogens in the modeled structure\n",
        "# For consistency, remove all hydrogen atoms in the reference and\n",
        "# modelled structure\n",
        "ref_ligand = ref_ligand[ref_ligand.element != \"H\"]\n",
        "docked_ligand = docked_ligand[docked_ligand.element != \"H\"]\n",
        "\n",
        "sphinx_gallery_thumbnail_number = 2\n",
        "# Visualization with PyMOL...\n"
      ]
    },
    {
      "cell_type": "code",
      "execution_count": 8,
      "metadata": {},
      "outputs": [
        {
          "name": "stdout",
          "output_type": "stream",
          "text": [
            " PyMOL(TM) Molecular Graphics System, Version 2.5.0.\n",
            " Copyright (c) Schrodinger, LLC.\n",
            " All Rights Reserved.\n",
            " \n",
            "    Created by Warren L. DeLano, Ph.D. \n",
            " \n",
            "    PyMOL is user-supported open-source software.  Although some versions\n",
            "    are freely available, PyMOL is not in the public domain.\n",
            " \n",
            "    If PyMOL is helpful in your work or study, then please volunteer \n",
            "    support for our ongoing efforts to create open and affordable scientific\n",
            "    software by purchasing a PyMOL Maintenance and/or Support subscription.\n",
            "\n",
            "    More information can be found at \"http://www.pymol.org\".\n",
            " \n",
            "    Enter \"help\" for a list of commands.\n",
            "    Enter \"help <command-name>\" for information on a specific command.\n",
            "\n",
            " Hit ESC anytime to toggle between text and graphics.\n",
            "\n",
            " Ray: render time: 0.02 sec. = 189992.9 frames/hour (0.02 sec. accum.).\n"
          ]
        },
        {
          "data": {
            "image/png": "[encoded data removed]",
            "text/plain": [
              "<IPython.core.display.Image object>"
            ]
          },
          "execution_count": 8,
          "metadata": {},
          "output_type": "execute_result"
        }
      ],
      "source": [
        "import ammolite\n",
        "\n",
        "PNG_SIZE = (250, 250)\n",
        "# Fetch and load cytochrome C structure and remove water\n",
        "# mmtf_file = mmtf.MMTFFile.read(rcsb.fetch(\"2RTG\", \"mmtf\"))\n",
        "# structure = mmtf.get_structure(mmtf_file, model=1, include_bonds=True)\n",
        "# cyt_c = structure[structure.res_name != \"HOH\"]\n",
        "\n",
        "pymol_docked_ligand = ammolite.PyMOLObject.from_structure(docked_ligand)\n",
        "ammolite.show(PNG_SIZE)\n"
      ]
    },
    {
      "cell_type": "code",
      "execution_count": null,
      "metadata": {},
      "outputs": [
        {
          "name": "stdout",
          "output_type": "stream",
          "text": [
            "Requirement already satisfied: nglview in /Users/duangdaowichadakul/anaconda3/envs/cheminfo/lib/python3.11/site-packages (3.0.8)\n",
            "Requirement already satisfied: ipywidgets>=7 in /Users/duangdaowichadakul/anaconda3/envs/cheminfo/lib/python3.11/site-packages (from nglview) (8.1.1)\n",
            "Requirement already satisfied: jupyterlab-widgets in /Users/duangdaowichadakul/anaconda3/envs/cheminfo/lib/python3.11/site-packages (from nglview) (3.0.9)\n",
            "Requirement already satisfied: numpy in /Users/duangdaowichadakul/anaconda3/envs/cheminfo/lib/python3.11/site-packages (from nglview) (1.26.1)\n",
            "Requirement already satisfied: comm>=0.1.3 in /Users/duangdaowichadakul/anaconda3/envs/cheminfo/lib/python3.11/site-packages (from ipywidgets>=7->nglview) (0.1.4)\n",
            "Requirement already satisfied: ipython>=6.1.0 in /Users/duangdaowichadakul/anaconda3/envs/cheminfo/lib/python3.11/site-packages (from ipywidgets>=7->nglview) (8.16.1)\n",
            "Requirement already satisfied: traitlets>=4.3.1 in /Users/duangdaowichadakul/anaconda3/envs/cheminfo/lib/python3.11/site-packages (from ipywidgets>=7->nglview) (5.7.1)\n",
            "Requirement already satisfied: widgetsnbextension~=4.0.9 in /Users/duangdaowichadakul/anaconda3/envs/cheminfo/lib/python3.11/site-packages (from ipywidgets>=7->nglview) (4.0.9)\n",
            "Requirement already satisfied: backcall in /Users/duangdaowichadakul/anaconda3/envs/cheminfo/lib/python3.11/site-packages (from ipython>=6.1.0->ipywidgets>=7->nglview) (0.2.0)\n",
            "Requirement already satisfied: decorator in /Users/duangdaowichadakul/anaconda3/envs/cheminfo/lib/python3.11/site-packages (from ipython>=6.1.0->ipywidgets>=7->nglview) (5.1.1)\n",
            "Requirement already satisfied: jedi>=0.16 in /Users/duangdaowichadakul/anaconda3/envs/cheminfo/lib/python3.11/site-packages (from ipython>=6.1.0->ipywidgets>=7->nglview) (0.19.1)\n",
            "Requirement already satisfied: matplotlib-inline in /Users/duangdaowichadakul/anaconda3/envs/cheminfo/lib/python3.11/site-packages (from ipython>=6.1.0->ipywidgets>=7->nglview) (0.1.6)\n",
            "Requirement already satisfied: pickleshare in /Users/duangdaowichadakul/anaconda3/envs/cheminfo/lib/python3.11/site-packages (from ipython>=6.1.0->ipywidgets>=7->nglview) (0.7.5)\n",
            "Requirement already satisfied: prompt-toolkit!=3.0.37,<3.1.0,>=3.0.30 in /Users/duangdaowichadakul/anaconda3/envs/cheminfo/lib/python3.11/site-packages (from ipython>=6.1.0->ipywidgets>=7->nglview) (3.0.39)\n",
            "Requirement already satisfied: pygments>=2.4.0 in /Users/duangdaowichadakul/anaconda3/envs/cheminfo/lib/python3.11/site-packages (from ipython>=6.1.0->ipywidgets>=7->nglview) (2.16.1)\n",
            "Requirement already satisfied: stack-data in /Users/duangdaowichadakul/anaconda3/envs/cheminfo/lib/python3.11/site-packages (from ipython>=6.1.0->ipywidgets>=7->nglview) (0.6.2)\n",
            "Requirement already satisfied: pexpect>4.3 in /Users/duangdaowichadakul/anaconda3/envs/cheminfo/lib/python3.11/site-packages (from ipython>=6.1.0->ipywidgets>=7->nglview) (4.8.0)\n",
            "Requirement already satisfied: appnope in /Users/duangdaowichadakul/anaconda3/envs/cheminfo/lib/python3.11/site-packages (from ipython>=6.1.0->ipywidgets>=7->nglview) (0.1.3)\n",
            "Requirement already satisfied: parso<0.9.0,>=0.8.3 in /Users/duangdaowichadakul/anaconda3/envs/cheminfo/lib/python3.11/site-packages (from jedi>=0.16->ipython>=6.1.0->ipywidgets>=7->nglview) (0.8.3)\n",
            "Requirement already satisfied: ptyprocess>=0.5 in /Users/duangdaowichadakul/anaconda3/envs/cheminfo/lib/python3.11/site-packages (from pexpect>4.3->ipython>=6.1.0->ipywidgets>=7->nglview) (0.7.0)\n",
            "Requirement already satisfied: wcwidth in /Users/duangdaowichadakul/anaconda3/envs/cheminfo/lib/python3.11/site-packages (from prompt-toolkit!=3.0.37,<3.1.0,>=3.0.30->ipython>=6.1.0->ipywidgets>=7->nglview) (0.2.8)\n",
            "Requirement already satisfied: executing>=1.2.0 in /Users/duangdaowichadakul/anaconda3/envs/cheminfo/lib/python3.11/site-packages (from stack-data->ipython>=6.1.0->ipywidgets>=7->nglview) (1.2.0)\n",
            "Requirement already satisfied: asttokens>=2.1.0 in /Users/duangdaowichadakul/anaconda3/envs/cheminfo/lib/python3.11/site-packages (from stack-data->ipython>=6.1.0->ipywidgets>=7->nglview) (2.4.0)\n",
            "Requirement already satisfied: pure-eval in /Users/duangdaowichadakul/anaconda3/envs/cheminfo/lib/python3.11/site-packages (from stack-data->ipython>=6.1.0->ipywidgets>=7->nglview) (0.2.2)\n",
            "Requirement already satisfied: six>=1.12.0 in /Users/duangdaowichadakul/anaconda3/envs/cheminfo/lib/python3.11/site-packages (from asttokens>=2.1.0->stack-data->ipython>=6.1.0->ipywidgets>=7->nglview) (1.16.0)\n",
            "Note: you may need to restart the kernel to use updated packages.\n"
          ]
        }
      ],
      "source": [
        "%pip install nglview\n"
      ]
    },
    {
      "cell_type": "code",
      "execution_count": null,
      "metadata": {},
      "outputs": [
        {
          "data": {
            "application/vnd.jupyter.widget-view+json": {
              "model_id": "b411ec5d09b3432c8632648d00c5484f",
              "version_major": 2,
              "version_minor": 0
            },
            "text/plain": []
          },
          "metadata": {},
          "output_type": "display_data"
        },
        {
          "data": {
            "application/vnd.jupyter.widget-view+json": {
              "model_id": "c564938109d84ae7bc0887b6181d9a76",
              "version_major": 2,
              "version_minor": 0
            },
            "text/plain": [
              "NGLWidget()"
            ]
          },
          "metadata": {},
          "output_type": "display_data"
        }
      ],
      "source": [
        "import nglview\n",
        "\n",
        "# load \"3pqr\" from RCSB PDB and display viewer widget\n",
        "view = nglview.show_pdbid(\"2RTG\")\n",
        "view\n"
      ]
    },
    {
      "cell_type": "code",
      "execution_count": null,
      "metadata": {},
      "outputs": [],
      "source": []
    }
  ],
  "metadata": {
    "kernelspec": {
      "display_name": "Python 3",
      "language": "python",
      "name": "python3"
    },
    "language_info": {
      "codemirror_mode": {
        "name": "ipython",
        "version": 3
      },
      "file_extension": ".py",
      "mimetype": "text/x-python",
      "name": "python",
      "nbconvert_exporter": "python",
      "pygments_lexer": "ipython3",
      "version": "3.10.8"
    }
  },
  "nbformat": 4,
  "nbformat_minor": 0
}

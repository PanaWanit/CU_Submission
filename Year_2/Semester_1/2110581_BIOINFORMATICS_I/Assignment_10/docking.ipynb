{
  "cells": [
    {
      "cell_type": "code",
      "execution_count": 1,
      "metadata": {
        "collapsed": false
      },
      "outputs": [],
      "source": [
        "%matplotlib inline\n"
      ]
    },
    {
      "cell_type": "code",
      "execution_count": 2,
      "metadata": {},
      "outputs": [
        {
          "name": "stdout",
          "output_type": "stream",
          "text": [
            "Requirement already satisfied: scipy in /opt/homebrew/anaconda3/lib/python3.10/site-packages (1.10.0)\n",
            "Requirement already satisfied: numpy<1.27.0,>=1.19.5 in /opt/homebrew/anaconda3/lib/python3.10/site-packages (from scipy) (1.23.5)\n",
            "Note: you may need to restart the kernel to use updated packages.\n",
            "Requirement already satisfied: biotite in /opt/homebrew/anaconda3/lib/python3.10/site-packages (0.38.0)\n",
            "Requirement already satisfied: requests>=2.12 in /opt/homebrew/anaconda3/lib/python3.10/site-packages (from biotite) (2.28.1)\n",
            "Requirement already satisfied: numpy>=1.14.5 in /opt/homebrew/anaconda3/lib/python3.10/site-packages (from biotite) (1.23.5)\n",
            "Requirement already satisfied: msgpack>=0.5.6 in /opt/homebrew/anaconda3/lib/python3.10/site-packages (from biotite) (1.0.3)\n",
            "Requirement already satisfied: networkx>=2.0 in /opt/homebrew/anaconda3/lib/python3.10/site-packages (from biotite) (2.7.1)\n",
            "Requirement already satisfied: charset-normalizer<3,>=2 in /opt/homebrew/anaconda3/lib/python3.10/site-packages (from requests>=2.12->biotite) (2.0.4)\n",
            "Requirement already satisfied: idna<4,>=2.5 in /opt/homebrew/anaconda3/lib/python3.10/site-packages (from requests>=2.12->biotite) (3.4)\n",
            "Requirement already satisfied: urllib3<1.27,>=1.21.1 in /opt/homebrew/anaconda3/lib/python3.10/site-packages (from requests>=2.12->biotite) (1.26.14)\n",
            "Requirement already satisfied: certifi>=2017.4.17 in /opt/homebrew/anaconda3/lib/python3.10/site-packages (from requests>=2.12->biotite) (2023.7.22)\n",
            "Note: you may need to restart the kernel to use updated packages.\n"
          ]
        }
      ],
      "source": [
        "%pip install scipy\n",
        "%pip install biotite\n"
      ]
    },
    {
      "cell_type": "markdown",
      "metadata": {},
      "source": [
        "\n",
        "# Docking biotin to streptavidin\n",
        "\n",
        "This example shows how to use *AutoDock Vina* :footcite:`Trott2010`\n",
        "from within *Biotite* for docking a ligand molecule to a known receptor\n",
        "structure.\n",
        "As example, we examine the famous streptavidin-biotin interaction.\n",
        "\n",
        "At first we download a high resolution structure of the complex.\n",
        "The resolution is important here:\n",
        "For one thing, the docking procedure requires annotated hydrogen atoms\n",
        "for the receptor molecule, which seldom is the case for low resolution\n",
        "X-ray structures.\n",
        "On the other hand, we would like to have a reliable reference binding\n",
        "mode of the ligand, to evaluate how well out docking procedure went\n",
        "\n",
        "After separation of the receptor and the reference ligand,\n",
        "a biotin model is loaded from the chemical components dictionary and\n",
        "docked into the binding cavity of streptavidin.\n",
        "\n",
        "Finally, the docked model is compared to the reference model, with\n",
        "respect to their RMSD.\n",
        "\n",
        ".. footbibliography::\n"
      ]
    },
    {
      "cell_type": "code",
      "execution_count": 2,
      "metadata": {
        "collapsed": false
      },
      "outputs": [
        {
          "data": {
            "image/png": "[encoded data removed]",
            "text/plain": [
              "<Figure size 800x600 with 1 Axes>"
            ]
          },
          "metadata": {},
          "output_type": "display_data"
        }
      ],
      "source": [
        "# Code source: Patrick Kunzmann\n",
        "# License: BSD 3 clause\n",
        "\n",
        "import numpy as np\n",
        "import matplotlib.pyplot as plt\n",
        "from scipy.stats import spearmanr\n",
        "import biotite.structure as struc\n",
        "import biotite.structure.info as info\n",
        "import biotite.structure.io.mmtf as mmtf\n",
        "import biotite.structure.graphics as graphics\n",
        "import biotite.database.rcsb as rcsb\n",
        "import biotite.application.autodock as autodock\n",
        "\n",
        "\n",
        "# Get the receptor structure\n",
        "# and the original 'correct' conformation of the ligand\n",
        "mmtf_file = mmtf.MMTFFile.read(rcsb.fetch(\"2RTG\", \"mmtf\"))\n",
        "structure = mmtf.get_structure(\n",
        "    # Include formal charge for accurate partial charge calculation\n",
        "    mmtf_file,\n",
        "    model=1,\n",
        "    include_bonds=True,\n",
        "    extra_fields=[\"charge\"],\n",
        ")\n",
        "# The asymmetric unit describes a streptavidin homodimer\n",
        "# However, we are only interested in a single monomer\n",
        "structure = structure[structure.chain_id == \"B\"]\n",
        "receptor = structure[struc.filter_amino_acids(structure)]\n",
        "\n",
        "ref_ligand = structure[structure.res_name == \"BTN\"]\n",
        "ref_ligand_center = struc.centroid(ref_ligand)\n",
        "\n",
        "\n",
        "# Independently, get the ligand without optimized conformation\n",
        "# from the chemical components dictionary\n",
        "ligand = info.residue(\"BTN\")\n",
        "\n",
        "# Search for a binding mode in a 20 Å radius\n",
        "# of the original ligand position\n",
        "app = autodock.VinaApp(ligand, receptor, ref_ligand_center, [20, 20, 20], bin_path=\"./vina\")\n",
        "# For reproducibility\n",
        "app.set_seed(0)\n",
        "# This is the maximum number:\n",
        "# Vina may find less interesting binding modes\n",
        "# and thus output less models\n",
        "app.set_max_number_of_models(100)\n",
        "# Effectively no limit\n",
        "app.set_energy_range(100.0)\n",
        "# Start docking run\n",
        "app.start()\n",
        "app.join()\n",
        "docked_coord = app.get_ligand_coord()\n",
        "energies = app.get_energies()\n",
        "\n",
        "# Create an AtomArrayStack for all docked binding modes\n",
        "docked_ligand = struc.from_template(ligand, docked_coord)\n",
        "# As Vina discards all nonpolar hydrogen atoms, their respective\n",
        "# coordinates are NaN -> remove these atoms\n",
        "docked_ligand = docked_ligand[..., ~np.isnan(docked_ligand.coord[0]).any(axis=-1)]\n",
        "\n",
        "\n",
        "# For comparison of the docked pose with the experimentally determined\n",
        "# reference conformation, the atom order of both must be exactly the\n",
        "# same\n",
        "# Therefore, all atoms, that are additional in one of both models,\n",
        "# e.g. carboxy or nonpolar hydrogen atoms, are removed...\n",
        "docked_ligand = docked_ligand[..., np.isin(docked_ligand.atom_name, ref_ligand.atom_name)]\n",
        "docked_ligand = docked_ligand[..., info.standardize_order(docked_ligand)]\n",
        "# ...and the atom order is standardized\n",
        "ref_ligand = ref_ligand[np.isin(ref_ligand.atom_name, docked_ligand.atom_name)]\n",
        "ref_ligand = ref_ligand[info.standardize_order(ref_ligand)]\n",
        "\n",
        "# print(\"docked_ligand in main\", docked_ligand)\n",
        "\n",
        "# Calculate the RMSD of the docked models to the correct binding mode\n",
        "# No superimposition prior to RMSD calculation, as we want to see\n",
        "# conformation differences with respect to the binding pocket\n",
        "rmsd = struc.rmsd(ref_ligand, docked_ligand)\n",
        "\n",
        "# Evaluate correlation between RMSD and binding energies\n",
        "correlation, p_value = spearmanr(energies, rmsd)\n",
        "\n",
        "figure, ax = plt.subplots(figsize=(8.0, 6.0))\n",
        "ax.set_title(f\"$r_s$ = {correlation:.2f} ($p$ = {p_value*100:.1f}%)\")\n",
        "ax.scatter(energies, rmsd, marker=\"+\", color=\"black\")\n",
        "ax.set_xlabel(\"Energy (kcal/mol)\")\n",
        "ax.set_ylabel(\"RMSD (Å)\")\n",
        "figure.tight_layout()\n",
        "plt.show()"
      ]
    },
    {
      "cell_type": "markdown",
      "metadata": {},
      "source": [
        "For this specific case *AutoDock Vina* shows only a low Spearman\n",
        "correlation between the RMSD of the calculated models to the\n",
        "correct binding mode and the associated calculated binding energy.\n",
        "A high correlation is desireable to ensure that docking results with\n",
        "good binding energies correspond to the correct binding mode for cases\n",
        "in which the correct binding conformation is unknown.\n",
        "However, at least the calculated model with highest predicted affinity\n",
        "is also the conformation with the lowest deviation from the\n",
        "experimental result in this instance.\n",
        "Hence, *AutoDock Vina* was able to predict an almost correct\n",
        "binding mode as its best *guess*.\n",
        "\n",
        "In a final step, we want to visually compare the experimentally\n",
        "determined conformation of biotin in the binding pocket with the\n",
        "minimum-energy docked conformation, which is also the conformation\n",
        "with the lowest RMSD in this case.\n",
        "The docked conformation is shown as ball-and-stick model, the original\n",
        "experimentally determined biotin conformation is shown in transparent\n",
        "blue. \n",
        "\n"
      ]
    },
    {
      "cell_type": "code",
      "execution_count": 3,
      "metadata": {
        "collapsed": false
      },
      "outputs": [
        {
          "ename": "IndexError",
          "evalue": "boolean index did not match indexed array along dimension 0; dimension is 1 but corresponding boolean dimension is 18",
          "output_type": "error",
          "traceback": [
            "\u001b[0;31m---------------------------------------------------------------------------\u001b[0m",
            "\u001b[0;31mIndexError\u001b[0m                                Traceback (most recent call last)",
            "\u001b[1;32m/Users/pnawn/Code/Chula/BioInfo/Assignment_10/docking.ipynb Cell 6\u001b[0m line \u001b[0;36m1\n\u001b[1;32m      <a href='vscode-notebook-cell:/Users/pnawn/Code/Chula/BioInfo/Assignment_10/docking.ipynb#W5sZmlsZQ%3D%3D?line=4'>5</a>\u001b[0m \u001b[39m# print(\"ref_ligand\", ref_ligand)\u001b[39;00m\n\u001b[1;32m      <a href='vscode-notebook-cell:/Users/pnawn/Code/Chula/BioInfo/Assignment_10/docking.ipynb#W5sZmlsZQ%3D%3D?line=5'>6</a>\u001b[0m \n\u001b[1;32m      <a href='vscode-notebook-cell:/Users/pnawn/Code/Chula/BioInfo/Assignment_10/docking.ipynb#W5sZmlsZQ%3D%3D?line=6'>7</a>\u001b[0m \u001b[39m# Vina only keeps polar hydrogens in the modeled structure\u001b[39;00m\n\u001b[1;32m      <a href='vscode-notebook-cell:/Users/pnawn/Code/Chula/BioInfo/Assignment_10/docking.ipynb#W5sZmlsZQ%3D%3D?line=7'>8</a>\u001b[0m \u001b[39m# For consistency, remove all hydrogen atoms in the reference and\u001b[39;00m\n\u001b[1;32m      <a href='vscode-notebook-cell:/Users/pnawn/Code/Chula/BioInfo/Assignment_10/docking.ipynb#W5sZmlsZQ%3D%3D?line=8'>9</a>\u001b[0m \u001b[39m# modelled structure\u001b[39;00m\n\u001b[1;32m     <a href='vscode-notebook-cell:/Users/pnawn/Code/Chula/BioInfo/Assignment_10/docking.ipynb#W5sZmlsZQ%3D%3D?line=9'>10</a>\u001b[0m ref_ligand \u001b[39m=\u001b[39m ref_ligand[ref_ligand\u001b[39m.\u001b[39melement \u001b[39m!=\u001b[39m \u001b[39m\"\u001b[39m\u001b[39mH\u001b[39m\u001b[39m\"\u001b[39m]\n\u001b[0;32m---> <a href='vscode-notebook-cell:/Users/pnawn/Code/Chula/BioInfo/Assignment_10/docking.ipynb#W5sZmlsZQ%3D%3D?line=10'>11</a>\u001b[0m docked_ligand \u001b[39m=\u001b[39m docked_ligand[docked_ligand\u001b[39m.\u001b[39;49melement \u001b[39m!=\u001b[39;49m \u001b[39m\"\u001b[39;49m\u001b[39mH\u001b[39;49m\u001b[39m\"\u001b[39;49m]\n",
            "File \u001b[0;32m/opt/homebrew/anaconda3/lib/python3.10/site-packages/biotite/structure/atoms.py:1064\u001b[0m, in \u001b[0;36mAtomArrayStack.__getitem__\u001b[0;34m(self, index)\u001b[0m\n\u001b[1;32m   1062\u001b[0m new_stack \u001b[39m=\u001b[39m AtomArrayStack(depth\u001b[39m=\u001b[39m\u001b[39m0\u001b[39m, length\u001b[39m=\u001b[39m\u001b[39mself\u001b[39m\u001b[39m.\u001b[39marray_length())\n\u001b[1;32m   1063\u001b[0m \u001b[39mself\u001b[39m\u001b[39m.\u001b[39m_copy_annotations(new_stack)\n\u001b[0;32m-> 1064\u001b[0m new_stack\u001b[39m.\u001b[39m_coord \u001b[39m=\u001b[39m \u001b[39mself\u001b[39;49m\u001b[39m.\u001b[39;49m_coord[index]\n\u001b[1;32m   1065\u001b[0m \u001b[39mif\u001b[39;00m \u001b[39mself\u001b[39m\u001b[39m.\u001b[39m_box \u001b[39mis\u001b[39;00m \u001b[39mnot\u001b[39;00m \u001b[39mNone\u001b[39;00m:\n\u001b[1;32m   1066\u001b[0m     new_stack\u001b[39m.\u001b[39m_box \u001b[39m=\u001b[39m \u001b[39mself\u001b[39m\u001b[39m.\u001b[39m_box[index]\n",
            "\u001b[0;31mIndexError\u001b[0m: boolean index did not match indexed array along dimension 0; dimension is 1 but corresponding boolean dimension is 18"
          ]
        }
      ],
      "source": [
        "# Get the best fitting model,\n",
        "# i.e the model with the lowest RMSD to the reference conformation\n",
        "# print(\"docked_ligand\", docked_ligand)\n",
        "docked_ligand = docked_ligand[[np.argmin(rmsd)]]\n",
        "# print(\"ref_ligand\", ref_ligand)\n",
        "\n",
        "# Vina only keeps polar hydrogens in the modeled structure\n",
        "# For consistency, remove all hydrogen atoms in the reference and\n",
        "# modelled structure\n",
        "ref_ligand = ref_ligand[ref_ligand.element != \"H\"]\n",
        "docked_ligand = docked_ligand[docked_ligand.element != \"H\"]\n",
        "\n",
        "# sphinx_gallery_thumbnail_number = 2\n",
        "# Visualization with PyMOL..."
      ]
    },
    {
      "cell_type": "code",
      "execution_count": null,
      "metadata": {},
      "outputs": [],
      "source": []
    }
  ],
  "metadata": {
    "kernelspec": {
      "display_name": "Python 3",
      "language": "python",
      "name": "python3"
    },
    "language_info": {
      "codemirror_mode": {
        "name": "ipython",
        "version": 3
      },
      "file_extension": ".py",
      "mimetype": "text/x-python",
      "name": "python",
      "nbconvert_exporter": "python",
      "pygments_lexer": "ipython3",
      "version": "3.10.9"
    }
  },
  "nbformat": 4,
  "nbformat_minor": 0
}

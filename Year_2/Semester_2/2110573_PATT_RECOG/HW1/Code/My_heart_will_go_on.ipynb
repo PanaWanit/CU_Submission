{
 "cells": [
  {
   "cell_type": "markdown",
   "metadata": {},
   "source": [
    "# Code for My heart will go on{-}"
   ]
  },
  {
   "cell_type": "code",
   "execution_count": null,
   "metadata": {},
   "outputs": [],
   "source": [
    "import numpy as np\n",
    "import numpy.typing as npt\n",
    "import pandas as pd"
   ]
  },
  {
   "cell_type": "code",
   "execution_count": null,
   "metadata": {},
   "outputs": [],
   "source": [
    "train_url = \"http://s3.amazonaws.com/assets.datacamp.com/course/Kaggle/train.csv\"\n",
    "train = pd.read_csv(train_url) #training set\n",
    "test_url = \"http://s3.amazonaws.com/assets.datacamp.com/course/Kaggle/test.csv\"\n",
    "test = pd.read_csv(test_url) #test set"
   ]
  },
  {
   "cell_type": "code",
   "execution_count": null,
   "metadata": {},
   "outputs": [],
   "source": [
    "train.describe()"
   ]
  },
  {
   "cell_type": "markdown",
   "metadata": {},
   "source": [
    "## T8{-}"
   ]
  },
  {
   "cell_type": "code",
   "execution_count": null,
   "metadata": {},
   "outputs": [],
   "source": [
    "print('median of age is', age_med := train['Age'].median())"
   ]
  },
  {
   "cell_type": "code",
   "execution_count": null,
   "metadata": {},
   "outputs": [],
   "source": [
    "train['Age'] = train['Age'].fillna(age_med)"
   ]
  },
  {
   "cell_type": "markdown",
   "metadata": {},
   "source": [
    "## T9{-}"
   ]
  },
  {
   "cell_type": "code",
   "execution_count": null,
   "metadata": {},
   "outputs": [],
   "source": [
    "print('Embarked Mode is', embark_mode := train['Embarked'].mode()[0])"
   ]
  },
  {
   "cell_type": "code",
   "execution_count": null,
   "metadata": {},
   "outputs": [],
   "source": [
    "train['Embarked'] = train['Embarked'].fillna(embark_mode)\n",
    "train.loc[train[\"Embarked\"] == \"S\", \"Embarked\"] = 0\n",
    "train.loc[train[\"Embarked\"] == \"C\", \"Embarked\"] = 1\n",
    "train.loc[train[\"Embarked\"] == \"Q\", \"Embarked\"] = 2"
   ]
  },
  {
   "cell_type": "code",
   "execution_count": null,
   "metadata": {},
   "outputs": [],
   "source": [
    "print('Sex Mode is', sex_mode := train['Sex'].mode()[0])"
   ]
  },
  {
   "cell_type": "code",
   "execution_count": null,
   "metadata": {},
   "outputs": [],
   "source": [
    "train['Sex'] = train['Sex'].fillna(sex_mode)\n",
    "train.loc[train[\"Sex\"] == \"male\", \"Sex\"] = 0\n",
    "train.loc[train[\"Sex\"] == \"female\", \"Sex\"] = 1"
   ]
  },
  {
   "cell_type": "markdown",
   "metadata": {},
   "source": [
    "## T10, T11{-}"
   ]
  },
  {
   "cell_type": "code",
   "execution_count": null,
   "metadata": {},
   "outputs": [],
   "source": [
    "class LogisticRegressionGradient:\n",
    "    def __init__(self, lr=0.00001, random_state=42, epochs=10_000, threshold=0.5):\n",
    "        self.lr = lr\n",
    "        self.random_state = random_state\n",
    "        self.epochs = epochs\n",
    "        self.threshold = threshold\n",
    "\n",
    "    @staticmethod\n",
    "    def logist(X: np.array):\n",
    "        X = np.clip(X, -600, 600) # for overflow\n",
    "        mask = X >= 0\n",
    "        X[mask] = np.exp(X[mask]) / (1 + np.exp(X[mask]))\n",
    "        X[~mask] = 1 / (1 + np.exp(-X[~mask]))\n",
    "        return X\n",
    "\n",
    "    def fit(self, X: npt.ArrayLike, y: npt.ArrayLike):\n",
    "        X = np.array(X)\n",
    "        y = np.array(y)\n",
    "\n",
    "        np.random.seed(self.random_state)\n",
    "        X = np.hstack((np.ones(X.shape[0]).reshape(-1, 1), X))  # add bias\n",
    "\n",
    "        self.params = np.random.randn(X.shape[1])\n",
    "\n",
    "        for _ in range(self.epochs):\n",
    "            y_pred = self.logist(X @ self.params)\n",
    "            diff = y - y_pred\n",
    "            loss = X.T @ diff\n",
    "\n",
    "            self.params += self.lr * loss\n",
    "\n",
    "        return self\n",
    "\n",
    "    def predict(self, X: npt.ArrayLike):\n",
    "        X = np.array(X)\n",
    "        X = np.hstack((np.ones(X.shape[0]).reshape(-1, 1), X))  # add bias\n",
    "        return (self.logist(X @ self.params) >= self.threshold).astype(int)"
   ]
  },
  {
   "cell_type": "code",
   "execution_count": null,
   "metadata": {},
   "outputs": [],
   "source": [
    "X = np.array(train[[\"Pclass\",\"Sex\",\"Age\",\"Embarked\"]].values, dtype = np.float64)\n",
    "y = np.array(train['Survived'], dtype=np.float64)"
   ]
  },
  {
   "cell_type": "code",
   "execution_count": null,
   "metadata": {},
   "outputs": [],
   "source": [
    "lr = LogisticRegressionGradient()\n",
    "lr.fit(X, y)"
   ]
  },
  {
   "cell_type": "code",
   "execution_count": null,
   "metadata": {},
   "outputs": [],
   "source": [
    "test['Age'] = test['Age'].fillna(age_med)\n",
    "\n",
    "test['Embarked'] = test['Embarked'].fillna(embark_mode)\n",
    "test.loc[test[\"Embarked\"] == \"S\", \"Embarked\"] = 0\n",
    "test.loc[test[\"Embarked\"] == \"C\", \"Embarked\"] = 1\n",
    "test.loc[test[\"Embarked\"] == \"Q\", \"Embarked\"] = 2\n",
    "\n",
    "test['Sex'] = test['Sex'].fillna(sex_mode)\n",
    "test.loc[test[\"Sex\"] == \"male\", \"Sex\"] = 0\n",
    "test.loc[test[\"Sex\"] == \"female\", \"Sex\"] = 1\n"
   ]
  },
  {
   "cell_type": "code",
   "execution_count": null,
   "metadata": {},
   "outputs": [],
   "source": [
    "\n",
    "y_pred = lr.predict(np.array(test[[\"Pclass\",\"Sex\",\"Age\",\"Embarked\"]], dtype=float))\n",
    "\n",
    "pd.DataFrame({\n",
    "    'PassengerId': test['PassengerId'],\n",
    "    'Survived': y_pred\n",
    "}).to_csv('Submit.csv', index=False)"
   ]
  },
  {
   "cell_type": "markdown",
   "metadata": {},
   "source": [
    "## T12{-}"
   ]
  },
  {
   "cell_type": "code",
   "execution_count": null,
   "metadata": {},
   "outputs": [],
   "source": [
    "def accuracy_score(y_test, y_pred):\n",
    "    if y_test.shape[0] != y_pred.shape[0]:\n",
    "        raise ValueError(\"Shape are not equal\")\n",
    "    return (y_test == y_pred).sum() / y_test.shape[0]"
   ]
  },
  {
   "cell_type": "code",
   "execution_count": null,
   "metadata": {},
   "outputs": [],
   "source": [
    "y_pred = lr.predict(X)\n",
    "print('Accuracy score of training set is', accuracy_score(y, y_pred))"
   ]
  },
  {
   "cell_type": "markdown",
   "metadata": {},
   "source": [
    "### Add high order feature $(x_1, x^2_1, x_2 \\ldots)${-}"
   ]
  },
  {
   "cell_type": "code",
   "execution_count": null,
   "metadata": {},
   "outputs": [],
   "source": [
    "train['Age_squared'] = train['Age'] ** 2\n",
    "test['Age_squared'] = test['Age'] ** 2\n",
    "train['Age_Cubic'] = train['Age'] ** 3\n",
    "test['Age_Cubic'] = test['Age'] ** 3\n",
    "\n",
    "X_ho_train = np.array(train[[\"Pclass\",\"Sex\",\"Age\", \"Age_squared\", \"Age_Cubic\", \"Embarked\"]].values, dtype = np.float64)\n",
    "X_ho_test = np.array(test[[\"Pclass\",\"Sex\",\"Age\", \"Age_squared\", \"Age_Cubic\", \"Embarked\"]].values, dtype = np.float64)\n",
    "\n",
    "lr_ho = LogisticRegressionGradient().fit(X_ho_train, y)\n",
    "y_pred_ho_train = lr_ho.predict(X_ho_train)\n",
    "\n",
    "print(lr_ho.params)\n",
    "\n",
    "print('Accuracy score of training set with high order feature is', accuracy_score(y, y_pred_ho_train))"
   ]
  },
  {
   "cell_type": "code",
   "execution_count": null,
   "metadata": {},
   "outputs": [],
   "source": [
    "y_pred_ho_test = lr_ho.predict(X_ho_test)\n",
    "pd.DataFrame({\n",
    "    'PassengerId': test['PassengerId'],\n",
    "    'Survived': y_pred_ho_test\n",
    "}).to_csv('Submit_highorder.csv', index=False)"
   ]
  },
  {
   "cell_type": "markdown",
   "metadata": {},
   "source": [
    "## T13{-}"
   ]
  },
  {
   "cell_type": "code",
   "execution_count": null,
   "metadata": {},
   "outputs": [],
   "source": [
    "X_train = np.array(train[[\"Sex\", \"Age\"]].values, dtype = np.float64)\n",
    "X_test = np.array(test[[\"Sex\", \"Age\"]].values, dtype = np.float64)\n",
    "\n",
    "lr_sa = LogisticRegressionGradient().fit(X_train, y)\n",
    "y_pred_sa_train = lr_sa.predict(X_train)\n",
    "\n",
    "print(lr_sa.params)\n",
    "print('Accuracy score of training set with only Sex and Age is', accuracy_score(y, y_pred_sa_train))"
   ]
  },
  {
   "cell_type": "code",
   "execution_count": null,
   "metadata": {},
   "outputs": [],
   "source": [
    "y_pred_sa = lr_sa.predict(X_test)\n",
    "pd.DataFrame({\n",
    "    'PassengerId': test['PassengerId'],\n",
    "    'Survived': y_pred_sa\n",
    "}).to_csv('Submit_Sex_Age.csv', index=False)"
   ]
  },
  {
   "cell_type": "markdown",
   "metadata": {},
   "source": [
    "## OT3{-}"
   ]
  },
  {
   "cell_type": "code",
   "execution_count": null,
   "metadata": {},
   "outputs": [],
   "source": [
    "print(X)"
   ]
  },
  {
   "cell_type": "markdown",
   "metadata": {},
   "source": [
    "normalized Age"
   ]
  },
  {
   "cell_type": "code",
   "execution_count": null,
   "metadata": {},
   "outputs": [],
   "source": [
    "mx_age, mn_age = X[:, 2].max(), X[:, 2].min()\n",
    "\n",
    "def normalize_age(x, mx_age, mn_age):\n",
    "    return (x - mn_age) / (mx_age - mn_age)\n",
    "\n",
    "normalize_age_vectorized = np.vectorize(lambda x : normalize_age(x, mx_age, mn_age))\n",
    "X[:, 2] = normalize_age_vectorized(X[:, 2])\n",
    "print(X)"
   ]
  },
  {
   "cell_type": "code",
   "execution_count": null,
   "metadata": {},
   "outputs": [],
   "source": [
    "class LinearRegressionGradient:\n",
    "    def __init__(self, lr=0.001, random_state=42, epochs=200_000):\n",
    "        self.lr = lr\n",
    "        self.random_state = random_state\n",
    "        self.epochs = epochs\n",
    "        self.params = None\n",
    "\n",
    "    def fit(self, X: npt.ArrayLike, y: npt.ArrayLike):\n",
    "        np.random.seed(self.random_state)\n",
    "        X = np.hstack((np.ones(X.shape[0]).reshape(-1, 1), X))  # add bias\n",
    "        self.params = np.random.randn(X.shape[1])\n",
    "\n",
    "        for _ in range(self.epochs):\n",
    "            y_pred = X @ self.params\n",
    "            diff = y - y_pred\n",
    "            loss = X.T @ diff\n",
    "\n",
    "            self.params += self.lr / X.shape[0] * loss\n",
    "            if _ % 10000 == 0:\n",
    "                print(\"iterations :\", _)\n",
    "\n",
    "        return self\n",
    "\n",
    "    def predict(self, X: npt.ArrayLike):\n",
    "        X = np.hstack((np.ones(X.shape[0]).reshape(-1, 1), X))  # add bias\n",
    "        return X @ self.params"
   ]
  },
  {
   "cell_type": "code",
   "execution_count": null,
   "metadata": {},
   "outputs": [],
   "source": [
    "params_gradient = LinearRegressionGradient(random_state=0).fit(X, y).params\n",
    "params_gradient"
   ]
  },
  {
   "cell_type": "markdown",
   "metadata": {},
   "source": [
    "## OT4{-}"
   ]
  },
  {
   "cell_type": "code",
   "execution_count": null,
   "metadata": {},
   "outputs": [],
   "source": [
    "class LinearRegressionInversion:\n",
    "    def __init__(self):\n",
    "        self.params = None\n",
    "\n",
    "\n",
    "    def fit(self, X: npt.ArrayLike, y: npt.ArrayLike):\n",
    "        X = np.hstack((np.ones(X.shape[0]).reshape(-1, 1), X))  # add bias\n",
    "\n",
    "        self.params = np.linalg.inv(X.T @ X) @ X.T @ y\n",
    "        return self\n",
    "\n",
    "    def predict(self, X: npt.ArrayLike):\n",
    "        X = np.hstack((np.ones(X.shape[0]).reshape(-1, 1), X))  # add bias\n",
    "\n",
    "        return X @ self.params"
   ]
  },
  {
   "cell_type": "code",
   "execution_count": null,
   "metadata": {},
   "outputs": [],
   "source": [
    "params_matrix_inversion =  LinearRegressionInversion().fit(X, y).params\n",
    "params_matrix_inversion"
   ]
  },
  {
   "cell_type": "markdown",
   "metadata": {},
   "source": [
    "Compute MSE"
   ]
  },
  {
   "cell_type": "code",
   "execution_count": null,
   "metadata": {},
   "outputs": [],
   "source": [
    "np.power(params_gradient - params_matrix_inversion, 2).sum()"
   ]
  }
 ],
 "metadata": {
  "kernelspec": {
   "display_name": "base",
   "language": "python",
   "name": "python3"
  },
  "language_info": {
   "codemirror_mode": {
    "name": "ipython",
    "version": 3
   },
   "file_extension": ".py",
   "mimetype": "text/x-python",
   "name": "python",
   "nbconvert_exporter": "python",
   "pygments_lexer": "ipython3",
   "version": "3.10.8"
  }
 },
 "nbformat": 4,
 "nbformat_minor": 2
}

{
 "cells": [
  {
   "cell_type": "markdown",
   "metadata": {},
   "source": [
    "# Code for My heart will go on{-}"
   ]
  },
  {
   "cell_type": "code",
   "execution_count": 1,
   "metadata": {},
   "outputs": [],
   "source": [
    "import numpy as np\n",
    "import numpy.typing as npt\n",
    "import pandas as pd"
   ]
  },
  {
   "cell_type": "code",
   "execution_count": 2,
   "metadata": {},
   "outputs": [],
   "source": [
    "train_url = \"http://s3.amazonaws.com/assets.datacamp.com/course/Kaggle/train.csv\"\n",
    "train = pd.read_csv(train_url) #training set\n",
    "test_url = \"http://s3.amazonaws.com/assets.datacamp.com/course/Kaggle/test.csv\"\n",
    "test = pd.read_csv(test_url) #test set"
   ]
  },
  {
   "cell_type": "code",
   "execution_count": 3,
   "metadata": {},
   "outputs": [
    {
     "data": {
      "text/html": [
       "<div>\n",
       "<style scoped>\n",
       "    .dataframe tbody tr th:only-of-type {\n",
       "        vertical-align: middle;\n",
       "    }\n",
       "\n",
       "    .dataframe tbody tr th {\n",
       "        vertical-align: top;\n",
       "    }\n",
       "\n",
       "    .dataframe thead th {\n",
       "        text-align: right;\n",
       "    }\n",
       "</style>\n",
       "<table border=\"1\" class=\"dataframe\">\n",
       "  <thead>\n",
       "    <tr style=\"text-align: right;\">\n",
       "      <th></th>\n",
       "      <th>PassengerId</th>\n",
       "      <th>Survived</th>\n",
       "      <th>Pclass</th>\n",
       "      <th>Age</th>\n",
       "      <th>SibSp</th>\n",
       "      <th>Parch</th>\n",
       "      <th>Fare</th>\n",
       "    </tr>\n",
       "  </thead>\n",
       "  <tbody>\n",
       "    <tr>\n",
       "      <th>count</th>\n",
       "      <td>891.000000</td>\n",
       "      <td>891.000000</td>\n",
       "      <td>891.000000</td>\n",
       "      <td>714.000000</td>\n",
       "      <td>891.000000</td>\n",
       "      <td>891.000000</td>\n",
       "      <td>891.000000</td>\n",
       "    </tr>\n",
       "    <tr>\n",
       "      <th>mean</th>\n",
       "      <td>446.000000</td>\n",
       "      <td>0.383838</td>\n",
       "      <td>2.308642</td>\n",
       "      <td>29.699118</td>\n",
       "      <td>0.523008</td>\n",
       "      <td>0.381594</td>\n",
       "      <td>32.204208</td>\n",
       "    </tr>\n",
       "    <tr>\n",
       "      <th>std</th>\n",
       "      <td>257.353842</td>\n",
       "      <td>0.486592</td>\n",
       "      <td>0.836071</td>\n",
       "      <td>14.526497</td>\n",
       "      <td>1.102743</td>\n",
       "      <td>0.806057</td>\n",
       "      <td>49.693429</td>\n",
       "    </tr>\n",
       "    <tr>\n",
       "      <th>min</th>\n",
       "      <td>1.000000</td>\n",
       "      <td>0.000000</td>\n",
       "      <td>1.000000</td>\n",
       "      <td>0.420000</td>\n",
       "      <td>0.000000</td>\n",
       "      <td>0.000000</td>\n",
       "      <td>0.000000</td>\n",
       "    </tr>\n",
       "    <tr>\n",
       "      <th>25%</th>\n",
       "      <td>223.500000</td>\n",
       "      <td>0.000000</td>\n",
       "      <td>2.000000</td>\n",
       "      <td>20.125000</td>\n",
       "      <td>0.000000</td>\n",
       "      <td>0.000000</td>\n",
       "      <td>7.910400</td>\n",
       "    </tr>\n",
       "    <tr>\n",
       "      <th>50%</th>\n",
       "      <td>446.000000</td>\n",
       "      <td>0.000000</td>\n",
       "      <td>3.000000</td>\n",
       "      <td>28.000000</td>\n",
       "      <td>0.000000</td>\n",
       "      <td>0.000000</td>\n",
       "      <td>14.454200</td>\n",
       "    </tr>\n",
       "    <tr>\n",
       "      <th>75%</th>\n",
       "      <td>668.500000</td>\n",
       "      <td>1.000000</td>\n",
       "      <td>3.000000</td>\n",
       "      <td>38.000000</td>\n",
       "      <td>1.000000</td>\n",
       "      <td>0.000000</td>\n",
       "      <td>31.000000</td>\n",
       "    </tr>\n",
       "    <tr>\n",
       "      <th>max</th>\n",
       "      <td>891.000000</td>\n",
       "      <td>1.000000</td>\n",
       "      <td>3.000000</td>\n",
       "      <td>80.000000</td>\n",
       "      <td>8.000000</td>\n",
       "      <td>6.000000</td>\n",
       "      <td>512.329200</td>\n",
       "    </tr>\n",
       "  </tbody>\n",
       "</table>\n",
       "</div>"
      ],
      "text/plain": [
       "       PassengerId    Survived      Pclass         Age       SibSp  \\\n",
       "count   891.000000  891.000000  891.000000  714.000000  891.000000   \n",
       "mean    446.000000    0.383838    2.308642   29.699118    0.523008   \n",
       "std     257.353842    0.486592    0.836071   14.526497    1.102743   \n",
       "min       1.000000    0.000000    1.000000    0.420000    0.000000   \n",
       "25%     223.500000    0.000000    2.000000   20.125000    0.000000   \n",
       "50%     446.000000    0.000000    3.000000   28.000000    0.000000   \n",
       "75%     668.500000    1.000000    3.000000   38.000000    1.000000   \n",
       "max     891.000000    1.000000    3.000000   80.000000    8.000000   \n",
       "\n",
       "            Parch        Fare  \n",
       "count  891.000000  891.000000  \n",
       "mean     0.381594   32.204208  \n",
       "std      0.806057   49.693429  \n",
       "min      0.000000    0.000000  \n",
       "25%      0.000000    7.910400  \n",
       "50%      0.000000   14.454200  \n",
       "75%      0.000000   31.000000  \n",
       "max      6.000000  512.329200  "
      ]
     },
     "execution_count": 3,
     "metadata": {},
     "output_type": "execute_result"
    }
   ],
   "source": [
    "train.describe()"
   ]
  },
  {
   "cell_type": "markdown",
   "metadata": {},
   "source": [
    "## T8{-}"
   ]
  },
  {
   "cell_type": "code",
   "execution_count": 4,
   "metadata": {},
   "outputs": [
    {
     "name": "stdout",
     "output_type": "stream",
     "text": [
      "median of age is 28.0\n"
     ]
    }
   ],
   "source": [
    "print('median of age is', age_med := train['Age'].median())"
   ]
  },
  {
   "cell_type": "code",
   "execution_count": 5,
   "metadata": {},
   "outputs": [],
   "source": [
    "train['Age'] = train['Age'].fillna(age_med)"
   ]
  },
  {
   "cell_type": "markdown",
   "metadata": {},
   "source": [
    "## T9{-}"
   ]
  },
  {
   "cell_type": "code",
   "execution_count": 6,
   "metadata": {},
   "outputs": [
    {
     "name": "stdout",
     "output_type": "stream",
     "text": [
      "Embarked Mode is S\n"
     ]
    }
   ],
   "source": [
    "print('Embarked Mode is', embark_mode := train['Embarked'].mode()[0])"
   ]
  },
  {
   "cell_type": "code",
   "execution_count": 7,
   "metadata": {},
   "outputs": [],
   "source": [
    "train['Embarked'] = train['Embarked'].fillna(embark_mode)\n",
    "train.loc[train[\"Embarked\"] == \"S\", \"Embarked\"] = 0\n",
    "train.loc[train[\"Embarked\"] == \"C\", \"Embarked\"] = 1\n",
    "train.loc[train[\"Embarked\"] == \"Q\", \"Embarked\"] = 2"
   ]
  },
  {
   "cell_type": "code",
   "execution_count": 8,
   "metadata": {},
   "outputs": [
    {
     "name": "stdout",
     "output_type": "stream",
     "text": [
      "Sex Mode is male\n"
     ]
    }
   ],
   "source": [
    "print('Sex Mode is', sex_mode := train['Sex'].mode()[0])"
   ]
  },
  {
   "cell_type": "code",
   "execution_count": 9,
   "metadata": {},
   "outputs": [],
   "source": [
    "train['Sex'] = train['Sex'].fillna(sex_mode)\n",
    "train.loc[train[\"Sex\"] == \"male\", \"Sex\"] = 0\n",
    "train.loc[train[\"Sex\"] == \"female\", \"Sex\"] = 1"
   ]
  },
  {
   "cell_type": "markdown",
   "metadata": {},
   "source": [
    "## T10, T11{-}"
   ]
  },
  {
   "cell_type": "code",
   "execution_count": 10,
   "metadata": {},
   "outputs": [],
   "source": [
    "class LogisticRegressionGradient:\n",
    "    def __init__(self, lr=0.00001, random_state=42, epochs=10_000, threshold=0.5):\n",
    "        self.lr = lr\n",
    "        self.random_state = random_state\n",
    "        self.epochs = epochs\n",
    "        self.threshold = threshold\n",
    "\n",
    "    @staticmethod\n",
    "    def logist(X: np.array):\n",
    "        X = np.clip(X, -600, 600) # for overflow\n",
    "        mask = X >= 0\n",
    "        X[mask] = np.exp(X[mask]) / (1 + np.exp(X[mask]))\n",
    "        X[~mask] = 1 / (1 + np.exp(-X[~mask]))\n",
    "        return X\n",
    "\n",
    "    def fit(self, X: npt.ArrayLike, y: npt.ArrayLike):\n",
    "        X = np.array(X)\n",
    "        y = np.array(y)\n",
    "\n",
    "        np.random.seed(self.random_state)\n",
    "        X = np.hstack((np.ones(X.shape[0]).reshape(-1, 1), X))  # add bias\n",
    "\n",
    "        self.params = np.random.randn(X.shape[1])\n",
    "\n",
    "        for _ in range(self.epochs):\n",
    "            y_pred = self.logist(X @ self.params)\n",
    "            diff = y - y_pred\n",
    "            loss = X.T @ diff\n",
    "\n",
    "            self.params += self.lr * loss\n",
    "\n",
    "        return self\n",
    "\n",
    "    def predict(self, X: npt.ArrayLike):\n",
    "        X = np.array(X)\n",
    "        X = np.hstack((np.ones(X.shape[0]).reshape(-1, 1), X))  # add bias\n",
    "        return (self.logist(X @ self.params) >= self.threshold).astype(int)"
   ]
  },
  {
   "cell_type": "code",
   "execution_count": 11,
   "metadata": {},
   "outputs": [],
   "source": [
    "X = np.array(train[[\"Pclass\",\"Sex\",\"Age\",\"Embarked\"]].values, dtype = np.float64)\n",
    "y = np.array(train['Survived'], dtype=np.float64)"
   ]
  },
  {
   "cell_type": "code",
   "execution_count": 12,
   "metadata": {},
   "outputs": [
    {
     "data": {
      "text/plain": [
       "<__main__.LogisticRegressionGradient at 0x11eb06bc0>"
      ]
     },
     "execution_count": 12,
     "metadata": {},
     "output_type": "execute_result"
    }
   ],
   "source": [
    "lr = LogisticRegressionGradient()\n",
    "lr.fit(X, y)"
   ]
  },
  {
   "cell_type": "code",
   "execution_count": 13,
   "metadata": {},
   "outputs": [],
   "source": [
    "test['Age'] = test['Age'].fillna(age_med)\n",
    "\n",
    "test['Embarked'] = test['Embarked'].fillna(embark_mode)\n",
    "test.loc[test[\"Embarked\"] == \"S\", \"Embarked\"] = 0\n",
    "test.loc[test[\"Embarked\"] == \"C\", \"Embarked\"] = 1\n",
    "test.loc[test[\"Embarked\"] == \"Q\", \"Embarked\"] = 2\n",
    "\n",
    "test['Sex'] = test['Sex'].fillna(sex_mode)\n",
    "test.loc[test[\"Sex\"] == \"male\", \"Sex\"] = 0\n",
    "test.loc[test[\"Sex\"] == \"female\", \"Sex\"] = 1\n"
   ]
  },
  {
   "cell_type": "code",
   "execution_count": 14,
   "metadata": {},
   "outputs": [],
   "source": [
    "\n",
    "y_pred = lr.predict(np.array(test[[\"Pclass\",\"Sex\",\"Age\",\"Embarked\"]], dtype=float))\n",
    "\n",
    "pd.DataFrame({\n",
    "    'PassengerId': test['PassengerId'],\n",
    "    'Survived': y_pred\n",
    "}).to_csv('Submit.csv', index=False)"
   ]
  },
  {
   "cell_type": "markdown",
   "metadata": {},
   "source": [
    "## T12{-}"
   ]
  },
  {
   "cell_type": "code",
   "execution_count": 15,
   "metadata": {},
   "outputs": [],
   "source": [
    "def accuracy_score(y_test, y_pred):\n",
    "    if y_test.shape[0] != y_pred.shape[0]:\n",
    "        raise ValueError(\"Shape are not equal\")\n",
    "    return (y_test == y_pred).sum() / y_test.shape[0]"
   ]
  },
  {
   "cell_type": "code",
   "execution_count": 16,
   "metadata": {},
   "outputs": [
    {
     "name": "stdout",
     "output_type": "stream",
     "text": [
      "Accuracy score of training set is 0.7968574635241302\n"
     ]
    }
   ],
   "source": [
    "y_pred = lr.predict(X)\n",
    "print('Accuracy score of training set is', accuracy_score(y, y_pred))"
   ]
  },
  {
   "cell_type": "markdown",
   "metadata": {},
   "source": [
    "### Add high order feature $(x_1, x^2_1, x_2 \\ldots)${-}"
   ]
  },
  {
   "cell_type": "code",
   "execution_count": 17,
   "metadata": {},
   "outputs": [
    {
     "name": "stdout",
     "output_type": "stream",
     "text": [
      "[  0.70055359 -12.32966498  11.8377913    9.44359665 318.83403664\n",
      " -87.10590108   4.65074534]\n",
      "Accuracy score of training set with high order feature is 0.6273849607182941\n"
     ]
    }
   ],
   "source": [
    "train['Age_squared'] = train['Age'] ** 2\n",
    "test['Age_squared'] = test['Age'] ** 2\n",
    "train['Age_Cubic'] = train['Age'] ** 3\n",
    "test['Age_Cubic'] = test['Age'] ** 3\n",
    "\n",
    "X_ho_train = np.array(train[[\"Pclass\",\"Sex\",\"Age\", \"Age_squared\", \"Age_Cubic\", \"Embarked\"]].values, dtype = np.float64)\n",
    "X_ho_test = np.array(test[[\"Pclass\",\"Sex\",\"Age\", \"Age_squared\", \"Age_Cubic\", \"Embarked\"]].values, dtype = np.float64)\n",
    "\n",
    "lr_ho = LogisticRegressionGradient().fit(X_ho_train, y)\n",
    "y_pred_ho_train = lr_ho.predict(X_ho_train)\n",
    "\n",
    "print(lr_ho.params)\n",
    "\n",
    "print('Accuracy score of training set with high order feature is', accuracy_score(y, y_pred_ho_train))"
   ]
  },
  {
   "cell_type": "code",
   "execution_count": 18,
   "metadata": {},
   "outputs": [],
   "source": [
    "y_pred_ho_test = lr_ho.predict(X_ho_test)\n",
    "pd.DataFrame({\n",
    "    'PassengerId': test['PassengerId'],\n",
    "    'Survived': y_pred_ho_test\n",
    "}).to_csv('Submit_highorder.csv', index=False)"
   ]
  },
  {
   "cell_type": "markdown",
   "metadata": {},
   "source": [
    "## T13{-}"
   ]
  },
  {
   "cell_type": "code",
   "execution_count": 19,
   "metadata": {},
   "outputs": [
    {
     "name": "stdout",
     "output_type": "stream",
     "text": [
      "[-1.01863706  2.34645073 -0.01149691]\n",
      "Accuracy score of training set with only Sex and Age is 0.7867564534231201\n"
     ]
    }
   ],
   "source": [
    "X_train = np.array(train[[\"Sex\", \"Age\"]].values, dtype = np.float64)\n",
    "X_test = np.array(test[[\"Sex\", \"Age\"]].values, dtype = np.float64)\n",
    "\n",
    "lr_sa = LogisticRegressionGradient().fit(X_train, y)\n",
    "y_pred_sa_train = lr_sa.predict(X_train)\n",
    "\n",
    "print(lr_sa.params)\n",
    "print('Accuracy score of training set with only Sex and Age is', accuracy_score(y, y_pred_sa_train))"
   ]
  },
  {
   "cell_type": "code",
   "execution_count": 20,
   "metadata": {},
   "outputs": [],
   "source": [
    "y_pred_sa = lr_sa.predict(X_test)\n",
    "pd.DataFrame({\n",
    "    'PassengerId': test['PassengerId'],\n",
    "    'Survived': y_pred_sa\n",
    "}).to_csv('Submit_Sex_Age.csv', index=False)"
   ]
  },
  {
   "cell_type": "markdown",
   "metadata": {},
   "source": [
    "## OT3{-}"
   ]
  },
  {
   "cell_type": "code",
   "execution_count": 21,
   "metadata": {},
   "outputs": [
    {
     "name": "stdout",
     "output_type": "stream",
     "text": [
      "[[ 3.  0. 22.  0.]\n",
      " [ 1.  1. 38.  1.]\n",
      " [ 3.  1. 26.  0.]\n",
      " ...\n",
      " [ 3.  1. 28.  0.]\n",
      " [ 1.  0. 26.  1.]\n",
      " [ 3.  0. 32.  2.]]\n"
     ]
    }
   ],
   "source": [
    "print(X)"
   ]
  },
  {
   "cell_type": "markdown",
   "metadata": {},
   "source": [
    "normalized Age"
   ]
  },
  {
   "cell_type": "code",
   "execution_count": 22,
   "metadata": {},
   "outputs": [
    {
     "name": "stdout",
     "output_type": "stream",
     "text": [
      "[[3.         0.         0.27117366 0.        ]\n",
      " [1.         1.         0.4722292  1.        ]\n",
      " [3.         1.         0.32143755 0.        ]\n",
      " ...\n",
      " [3.         1.         0.34656949 0.        ]\n",
      " [1.         0.         0.32143755 1.        ]\n",
      " [3.         0.         0.39683338 2.        ]]\n"
     ]
    }
   ],
   "source": [
    "mx_age, mn_age = X[:, 2].max(), X[:, 2].min()\n",
    "\n",
    "def normalize_age(x, mx_age, mn_age):\n",
    "    return (x - mn_age) / (mx_age - mn_age)\n",
    "\n",
    "normalize_age_vectorized = np.vectorize(lambda x : normalize_age(x, mx_age, mn_age))\n",
    "X[:, 2] = normalize_age_vectorized(X[:, 2])\n",
    "print(X)"
   ]
  },
  {
   "cell_type": "code",
   "execution_count": 29,
   "metadata": {},
   "outputs": [],
   "source": [
    "class LinearRegressionGradient:\n",
    "    def __init__(self, lr=0.001, random_state=42, epochs=200_000):\n",
    "        self.lr = lr\n",
    "        self.random_state = random_state\n",
    "        self.epochs = epochs\n",
    "        self.params = None\n",
    "\n",
    "    def fit(self, X: npt.ArrayLike, y: npt.ArrayLike):\n",
    "        np.random.seed(self.random_state)\n",
    "        X = np.hstack((np.ones(X.shape[0]).reshape(-1, 1), X))  # add bias\n",
    "        self.params = np.random.randn(X.shape[1])\n",
    "\n",
    "        for _ in range(self.epochs):\n",
    "            y_pred = X @ self.params\n",
    "            diff = y - y_pred\n",
    "            loss = X.T @ diff\n",
    "\n",
    "            self.params += self.lr / X.shape[0] * loss\n",
    "            if _ % 10000 == 0:\n",
    "                print(\"iterations :\", _)\n",
    "\n",
    "        return self\n",
    "\n",
    "    def predict(self, X: npt.ArrayLike):\n",
    "        X = np.hstack((np.ones(X.shape[0]).reshape(-1, 1), X))  # add bias\n",
    "        return X @ self.params"
   ]
  },
  {
   "cell_type": "code",
   "execution_count": 31,
   "metadata": {},
   "outputs": [
    {
     "name": "stdout",
     "output_type": "stream",
     "text": [
      "iterations : 0\n",
      "iterations : 10000\n",
      "iterations : 20000\n",
      "iterations : 30000\n",
      "iterations : 40000\n",
      "iterations : 50000\n",
      "iterations : 60000\n",
      "iterations : 70000\n",
      "iterations : 80000\n",
      "iterations : 90000\n",
      "iterations : 100000\n",
      "iterations : 110000\n",
      "iterations : 120000\n",
      "iterations : 130000\n",
      "iterations : 140000\n",
      "iterations : 150000\n",
      "iterations : 160000\n",
      "iterations : 170000\n",
      "iterations : 180000\n",
      "iterations : 190000\n"
     ]
    },
    {
     "data": {
      "text/plain": [
       "array([ 0.74253777, -0.18302629,  0.4945769 , -0.35394677,  0.04905888])"
      ]
     },
     "execution_count": 31,
     "metadata": {},
     "output_type": "execute_result"
    }
   ],
   "source": [
    "params_gradient = LinearRegressionGradient(random_state=0).fit(X, y).params\n",
    "params_gradient"
   ]
  },
  {
   "cell_type": "markdown",
   "metadata": {},
   "source": [
    "## OT4{-}"
   ]
  },
  {
   "cell_type": "code",
   "execution_count": 25,
   "metadata": {},
   "outputs": [],
   "source": [
    "class LinearRegressionInversion:\n",
    "    def __init__(self):\n",
    "        self.params = None\n",
    "\n",
    "\n",
    "    def fit(self, X: npt.ArrayLike, y: npt.ArrayLike):\n",
    "        X = np.hstack((np.ones(X.shape[0]).reshape(-1, 1), X))  # add bias\n",
    "\n",
    "        self.params = np.linalg.inv(X.T @ X) @ X.T @ y\n",
    "        return self\n",
    "\n",
    "    def predict(self, X: npt.ArrayLike):\n",
    "        X = np.hstack((np.ones(X.shape[0]).reshape(-1, 1), X))  # add bias\n",
    "\n",
    "        return X @ self.params"
   ]
  },
  {
   "cell_type": "code",
   "execution_count": 26,
   "metadata": {},
   "outputs": [
    {
     "data": {
      "text/plain": [
       "array([ 0.77442159, -0.18843944,  0.49086711, -0.40222591,  0.04911346])"
      ]
     },
     "execution_count": 26,
     "metadata": {},
     "output_type": "execute_result"
    }
   ],
   "source": [
    "params_matrix_inversion =  LinearRegressionInversion().fit(X, y).params\n",
    "params_matrix_inversion"
   ]
  },
  {
   "cell_type": "markdown",
   "metadata": {},
   "source": [
    "Compute MSE"
   ]
  },
  {
   "cell_type": "code",
   "execution_count": 27,
   "metadata": {},
   "outputs": [
    {
     "data": {
      "text/plain": [
       "0.003390521142094702"
      ]
     },
     "execution_count": 27,
     "metadata": {},
     "output_type": "execute_result"
    }
   ],
   "source": [
    "np.power(params_gradient - params_matrix_inversion, 2).sum()"
   ]
  }
 ],
 "metadata": {
  "kernelspec": {
   "display_name": "base",
   "language": "python",
   "name": "python3"
  },
  "language_info": {
   "codemirror_mode": {
    "name": "ipython",
    "version": 3
   },
   "file_extension": ".py",
   "mimetype": "text/x-python",
   "name": "python",
   "nbconvert_exporter": "python",
   "pygments_lexer": "ipython3",
   "version": "3.10.8"
  }
 },
 "nbformat": 4,
 "nbformat_minor": 2
}
